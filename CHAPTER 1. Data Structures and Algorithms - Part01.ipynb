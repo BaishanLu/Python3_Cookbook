{
 "cells": [
  {
   "cell_type": "markdown",
   "metadata": {},
   "source": [
    "# CHAPTER 1. Data Structures and Algorithms - Part01\n",
    "\n",
    "Python provides a variety of useful built-in data structures, such as lists, sets, and dictionaries.\n",
    "For the most part, the use of these structures is straightforward. However,\n",
    "common questions concerning searching, sorting, ordering, and filtering often arise.\n",
    "Thus, the goal of this chapter is to discuss common data structures and algorithms\n",
    "involving data. In addition, treatment is given to the various data structures contained\n",
    "in the collections module."
   ]
  },
  {
   "cell_type": "markdown",
   "metadata": {},
   "source": [
    "## 1.1. Unpacking a Sequence into Separate Variables\n",
    "\n",
    "### Problem\n",
    "\n",
    "You have an N-element tuple or sequence that you would like to unpack into a collection\n",
    "of N variables.\n",
    "\n",
    "### Solution\n",
    "\n",
    "Any sequence (or iterable) can be unpacked into variables using a simple assignment\n",
    "operation. The only requirement is that the number of variables and structure match\n",
    "the sequence. \n",
    "\n",
    "For example:"
   ]
  },
  {
   "cell_type": "code",
   "execution_count": 3,
   "metadata": {},
   "outputs": [
    {
     "data": {
      "text/plain": [
       "4"
      ]
     },
     "execution_count": 3,
     "metadata": {},
     "output_type": "execute_result"
    }
   ],
   "source": [
    "p = (4, 5)\n",
    "x, y = p\n",
    "x"
   ]
  },
  {
   "cell_type": "code",
   "execution_count": 4,
   "metadata": {},
   "outputs": [
    {
     "data": {
      "text/plain": [
       "5"
      ]
     },
     "execution_count": 4,
     "metadata": {},
     "output_type": "execute_result"
    }
   ],
   "source": [
    "y"
   ]
  },
  {
   "cell_type": "code",
   "execution_count": 5,
   "metadata": {},
   "outputs": [
    {
     "data": {
      "text/plain": [
       "'ACME'"
      ]
     },
     "execution_count": 5,
     "metadata": {},
     "output_type": "execute_result"
    }
   ],
   "source": [
    ">>> data = [ 'ACME', 50, 91.1, (2012, 12, 21) ]\n",
    ">>> name, shares, price, date = data\n",
    ">>> name"
   ]
  },
  {
   "cell_type": "code",
   "execution_count": 6,
   "metadata": {},
   "outputs": [
    {
     "data": {
      "text/plain": [
       "(2012, 12, 21)"
      ]
     },
     "execution_count": 6,
     "metadata": {},
     "output_type": "execute_result"
    }
   ],
   "source": [
    ">>> date"
   ]
  },
  {
   "cell_type": "code",
   "execution_count": 7,
   "metadata": {},
   "outputs": [
    {
     "data": {
      "text/plain": [
       "'ACME'"
      ]
     },
     "execution_count": 7,
     "metadata": {},
     "output_type": "execute_result"
    }
   ],
   "source": [
    ">>> name, shares, price, (year, mon, day) = data\n",
    ">>> name"
   ]
  },
  {
   "cell_type": "code",
   "execution_count": 9,
   "metadata": {},
   "outputs": [
    {
     "data": {
      "text/plain": [
       "2012"
      ]
     },
     "execution_count": 9,
     "metadata": {},
     "output_type": "execute_result"
    }
   ],
   "source": [
    ">>> year"
   ]
  },
  {
   "cell_type": "code",
   "execution_count": 10,
   "metadata": {},
   "outputs": [
    {
     "data": {
      "text/plain": [
       "12"
      ]
     },
     "execution_count": 10,
     "metadata": {},
     "output_type": "execute_result"
    }
   ],
   "source": [
    ">>> mon"
   ]
  },
  {
   "cell_type": "code",
   "execution_count": 11,
   "metadata": {},
   "outputs": [
    {
     "data": {
      "text/plain": [
       "21"
      ]
     },
     "execution_count": 11,
     "metadata": {},
     "output_type": "execute_result"
    }
   ],
   "source": [
    ">>> day"
   ]
  },
  {
   "cell_type": "markdown",
   "metadata": {},
   "source": [
    "If there is a mismatch in the number of elements, you’ll get an error. For example:\n",
    "\n",
    "```\n",
    "Traceback (most recent call last):\n",
    "File \"<stdin>\", line 1, in <module>\n",
    "ValueError: need more than 2 values to unpack\n",
    "```"
   ]
  },
  {
   "cell_type": "code",
   "execution_count": 13,
   "metadata": {},
   "outputs": [
    {
     "ename": "ValueError",
     "evalue": "not enough values to unpack (expected 3, got 2)",
     "output_type": "error",
     "traceback": [
      "\u001b[1;31m---------------------------------------------------------------------------\u001b[0m",
      "\u001b[1;31mValueError\u001b[0m                                Traceback (most recent call last)",
      "\u001b[1;32m<ipython-input-13-16f8f27ebf6e>\u001b[0m in \u001b[0;36m<module>\u001b[1;34m()\u001b[0m\n\u001b[0;32m      1\u001b[0m \u001b[0mp\u001b[0m \u001b[1;33m=\u001b[0m \u001b[1;33m(\u001b[0m\u001b[1;36m4\u001b[0m\u001b[1;33m,\u001b[0m \u001b[1;36m5\u001b[0m\u001b[1;33m)\u001b[0m\u001b[1;33m\u001b[0m\u001b[0m\n\u001b[1;32m----> 2\u001b[1;33m \u001b[0mx\u001b[0m\u001b[1;33m,\u001b[0m \u001b[0my\u001b[0m\u001b[1;33m,\u001b[0m \u001b[0mz\u001b[0m \u001b[1;33m=\u001b[0m \u001b[0mp\u001b[0m\u001b[1;33m\u001b[0m\u001b[0m\n\u001b[0m",
      "\u001b[1;31mValueError\u001b[0m: not enough values to unpack (expected 3, got 2)"
     ]
    }
   ],
   "source": [
    ">>> p = (4, 5)\n",
    ">>> x, y, z = p"
   ]
  },
  {
   "cell_type": "markdown",
   "metadata": {},
   "source": [
    "### Discussion\n",
    "\n",
    "Unpacking actually works with any object that happens to be iterable (迭代), not just tuples or\n",
    "lists. This includes strings, files, iterators, and generators. \n",
    "\n",
    "For example:"
   ]
  },
  {
   "cell_type": "code",
   "execution_count": 14,
   "metadata": {},
   "outputs": [
    {
     "data": {
      "text/plain": [
       "'H'"
      ]
     },
     "execution_count": 14,
     "metadata": {},
     "output_type": "execute_result"
    }
   ],
   "source": [
    ">>> s = 'Hello'\n",
    ">>> a, b, c, d, e = s\n",
    ">>> a"
   ]
  },
  {
   "cell_type": "code",
   "execution_count": 15,
   "metadata": {},
   "outputs": [
    {
     "data": {
      "text/plain": [
       "'e'"
      ]
     },
     "execution_count": 15,
     "metadata": {},
     "output_type": "execute_result"
    }
   ],
   "source": [
    ">>> b"
   ]
  },
  {
   "cell_type": "code",
   "execution_count": 16,
   "metadata": {},
   "outputs": [
    {
     "data": {
      "text/plain": [
       "'o'"
      ]
     },
     "execution_count": 16,
     "metadata": {},
     "output_type": "execute_result"
    }
   ],
   "source": [
    ">>> e"
   ]
  },
  {
   "cell_type": "markdown",
   "metadata": {},
   "source": [
    "When unpacking, you may sometimes want to discard certain values. Python has no\n",
    "special syntax for this, but you can often just pick a **throwaway variable name** for it. \n",
    "\n",
    "一个下划线 _ 就是这样的 \"throwaway name\".\n",
    "\n",
    "For example:"
   ]
  },
  {
   "cell_type": "code",
   "execution_count": 17,
   "metadata": {},
   "outputs": [
    {
     "data": {
      "text/plain": [
       "50"
      ]
     },
     "execution_count": 17,
     "metadata": {},
     "output_type": "execute_result"
    }
   ],
   "source": [
    ">>> data = [ 'ACME', 50, 91.1, (2012, 12, 21) ]\n",
    ">>> _, shares, price, _ = data\n",
    ">>> shares"
   ]
  },
  {
   "cell_type": "code",
   "execution_count": 18,
   "metadata": {},
   "outputs": [
    {
     "data": {
      "text/plain": [
       "91.1"
      ]
     },
     "execution_count": 18,
     "metadata": {},
     "output_type": "execute_result"
    }
   ],
   "source": [
    ">>> price"
   ]
  },
  {
   "cell_type": "markdown",
   "metadata": {},
   "source": [
    "However, make sure that the variable name you pick isn’t being used for something else\n",
    "already."
   ]
  },
  {
   "cell_type": "markdown",
   "metadata": {},
   "source": [
    "## 1.2. Unpacking Elements from Iterables of Arbitrary Length (任意长度)\n",
    "\n",
    "### Problem\n",
    "\n",
    "You need to unpack N elements from an iterable (迭代), but the iterable may be longer than N\n",
    "elements, causing a “too many values to unpack” exception.\n",
    "\n",
    "### Solution\n",
    "\n",
    "Python **“star expressions”** can be used to address this problem. For example, suppose\n",
    "you run a course and decide at the end of the semester that you’re going to drop the first\n",
    "and last homework grades, and only average the rest of them. If there are only four\n",
    "assignments, maybe you simply unpack all four, but what if there are 24? A star expression\n",
    "makes it easy:\n",
    "\n",
    "```python\n",
    "def drop_first_last(grades):\n",
    "    first, *middle, last = grades\n",
    "    return avg(middle)\n",
    "```\n",
    "\n",
    "As another use case, suppose you have user records that consist of a name and email\n",
    "address, followed by an arbitrary number of phone numbers. You could unpack the\n",
    "records like this:"
   ]
  },
  {
   "cell_type": "code",
   "execution_count": 20,
   "metadata": {},
   "outputs": [
    {
     "data": {
      "text/plain": [
       "'Dave'"
      ]
     },
     "execution_count": 20,
     "metadata": {},
     "output_type": "execute_result"
    }
   ],
   "source": [
    ">>> user_record = ('Dave', 'dave@example.com', '773-555-1212', '847-555-1212')\n",
    ">>> name, email, *phone_numbers = user_record\n",
    ">>> name"
   ]
  },
  {
   "cell_type": "code",
   "execution_count": 21,
   "metadata": {},
   "outputs": [
    {
     "data": {
      "text/plain": [
       "'dave@example.com'"
      ]
     },
     "execution_count": 21,
     "metadata": {},
     "output_type": "execute_result"
    }
   ],
   "source": [
    ">>> email"
   ]
  },
  {
   "cell_type": "code",
   "execution_count": 22,
   "metadata": {},
   "outputs": [
    {
     "data": {
      "text/plain": [
       "['773-555-1212', '847-555-1212']"
      ]
     },
     "execution_count": 22,
     "metadata": {},
     "output_type": "execute_result"
    }
   ],
   "source": [
    ">>> phone_numbers"
   ]
  },
  {
   "cell_type": "markdown",
   "metadata": {},
   "source": [
    "It’s worth noting that the phone_numbers variable will always be a list, regardless of how\n",
    "many phone numbers are unpacked (including none). Thus, any code that uses\n",
    "phone_numbers won't have to account for the possibility that it might not be a list or\n",
    "perform any kind of additional type checking.\n",
    "\n",
    "The starred variable can also be the first one in the list. For example, say you have a\n",
    "sequence of values representing your company’s sales figures for the last eight quarters.\n",
    "If you want to see how the most recent quarter stacks up to the average of the first seven,\n",
    "you could do something like this:\n",
    "\n",
    "```python\n",
    "*trailing_qtrs, current_qtr = sales_record\n",
    "trailing_avg = sum(trailing_qtrs) / len(trailing_qtrs)\n",
    "return avg_comparison(trailing_avg, current_qtr)\n",
    "```"
   ]
  },
  {
   "cell_type": "markdown",
   "metadata": {},
   "source": [
    "Here’s a view of the operation from the Python interpreter:"
   ]
  },
  {
   "cell_type": "code",
   "execution_count": 23,
   "metadata": {},
   "outputs": [
    {
     "data": {
      "text/plain": [
       "[10, 8, 7, 1, 9, 5, 10]"
      ]
     },
     "execution_count": 23,
     "metadata": {},
     "output_type": "execute_result"
    }
   ],
   "source": [
    ">>> *trailing, current = [10, 8, 7, 1, 9, 5, 10, 3]\n",
    ">>> trailing"
   ]
  },
  {
   "cell_type": "code",
   "execution_count": 25,
   "metadata": {},
   "outputs": [
    {
     "data": {
      "text/plain": [
       "3"
      ]
     },
     "execution_count": 25,
     "metadata": {},
     "output_type": "execute_result"
    }
   ],
   "source": [
    ">>> current"
   ]
  },
  {
   "cell_type": "markdown",
   "metadata": {},
   "source": [
    "### Discussion\n",
    "\n",
    "Extended iterable unpacking is tailor-made for unpacking iterables of unknown or arbitrary\n",
    "length. Oftentimes, these iterables have some known component or pattern in\n",
    "their construction (e.g. “everything after element 1 is a phone number”), and star unpacking\n",
    "lets the developer leverage those patterns easily instead of performing acrobatics\n",
    "to get at the relevant elements in the iterable.\n",
    "\n",
    "It is worth noting that the star syntax can be especially useful when iterating over a\n",
    "sequence of tuples of varying length.\n",
    "\n",
    "For example, perhaps a sequence of tagged tuples:"
   ]
  },
  {
   "cell_type": "code",
   "execution_count": 28,
   "metadata": {},
   "outputs": [
    {
     "name": "stdout",
     "output_type": "stream",
     "text": [
      "foo 1 2\n",
      "bar hello\n",
      "foo 3 4\n"
     ]
    }
   ],
   "source": [
    "records = [\n",
    "('foo', 1, 2),\n",
    "('bar', 'hello'),\n",
    "('foo', 3, 4),\n",
    "]\n",
    "def do_foo(x, y):\n",
    "    print('foo', x, y)\n",
    "    \n",
    "def do_bar(s):\n",
    "    print('bar', s)\n",
    "    \n",
    "for tag, *args in records:\n",
    "    if tag == 'foo':\n",
    "        do_foo(*args)\n",
    "    elif tag == 'bar':\n",
    "        do_bar(*args)"
   ]
  },
  {
   "cell_type": "markdown",
   "metadata": {},
   "source": [
    "Star unpacking can also be useful when combined with certain kinds of string processing\n",
    "operations, such as splitting. \n",
    "\n",
    "For example:"
   ]
  },
  {
   "cell_type": "code",
   "execution_count": 29,
   "metadata": {},
   "outputs": [
    {
     "data": {
      "text/plain": [
       "'nobody'"
      ]
     },
     "execution_count": 29,
     "metadata": {},
     "output_type": "execute_result"
    }
   ],
   "source": [
    ">>> line = 'nobody:*:-2:-2:Unprivileged User:/var/empty:/usr/bin/false'\n",
    ">>> uname, *fields, homedir, sh = line.split(':')\n",
    ">>> uname"
   ]
  },
  {
   "cell_type": "code",
   "execution_count": 30,
   "metadata": {},
   "outputs": [
    {
     "data": {
      "text/plain": [
       "'/var/empty'"
      ]
     },
     "execution_count": 30,
     "metadata": {},
     "output_type": "execute_result"
    }
   ],
   "source": [
    ">>> homedir"
   ]
  },
  {
   "cell_type": "code",
   "execution_count": 31,
   "metadata": {},
   "outputs": [
    {
     "data": {
      "text/plain": [
       "'/usr/bin/false'"
      ]
     },
     "execution_count": 31,
     "metadata": {},
     "output_type": "execute_result"
    }
   ],
   "source": [
    ">>> sh"
   ]
  },
  {
   "cell_type": "markdown",
   "metadata": {},
   "source": [
    "Sometimes you might want to unpack values and throw them away. You can’t just specify\n",
    "a bare * when unpacking, but you could use **a common throwaway variable name, such\n",
    "as _ or ign (ignored)**. \n",
    "\n",
    "For example:"
   ]
  },
  {
   "cell_type": "code",
   "execution_count": 32,
   "metadata": {},
   "outputs": [
    {
     "data": {
      "text/plain": [
       "'ACME'"
      ]
     },
     "execution_count": 32,
     "metadata": {},
     "output_type": "execute_result"
    }
   ],
   "source": [
    ">>> record = ('ACME', 50, 123.45, (12, 18, 2012))\n",
    ">>> name, *_, (*_, year) = record\n",
    ">>> name"
   ]
  },
  {
   "cell_type": "code",
   "execution_count": 33,
   "metadata": {},
   "outputs": [
    {
     "data": {
      "text/plain": [
       "2012"
      ]
     },
     "execution_count": 33,
     "metadata": {},
     "output_type": "execute_result"
    }
   ],
   "source": [
    ">>> year"
   ]
  },
  {
   "cell_type": "markdown",
   "metadata": {},
   "source": [
    "There is a certain similarity between star unpacking and list-processing features of various\n",
    "functional languages. \n",
    "\n",
    "For example, if you have a list, you can easily split it into head\n",
    "and tail components like this:"
   ]
  },
  {
   "cell_type": "code",
   "execution_count": 34,
   "metadata": {},
   "outputs": [
    {
     "data": {
      "text/plain": [
       "1"
      ]
     },
     "execution_count": 34,
     "metadata": {},
     "output_type": "execute_result"
    }
   ],
   "source": [
    ">>> items = [1, 10, 7, 4, 5, 9]\n",
    ">>> head, *tail = items\n",
    ">>> head"
   ]
  },
  {
   "cell_type": "code",
   "execution_count": 35,
   "metadata": {},
   "outputs": [
    {
     "data": {
      "text/plain": [
       "[10, 7, 4, 5, 9]"
      ]
     },
     "execution_count": 35,
     "metadata": {},
     "output_type": "execute_result"
    }
   ],
   "source": [
    ">>> tail"
   ]
  },
  {
   "cell_type": "markdown",
   "metadata": {},
   "source": [
    "One could imagine writing functions that perform such splitting in order to carry out\n",
    "some kind of clever recursive (递归的) algorithm. \n",
    "\n",
    "For example:"
   ]
  },
  {
   "cell_type": "code",
   "execution_count": 37,
   "metadata": {},
   "outputs": [
    {
     "data": {
      "text/plain": [
       "36"
      ]
     },
     "execution_count": 37,
     "metadata": {},
     "output_type": "execute_result"
    }
   ],
   "source": [
    "def sum(items):\n",
    "    head, *tail = items\n",
    "    return head + sum(tail) if tail else head\n",
    "\n",
    "sum(items)"
   ]
  },
  {
   "cell_type": "markdown",
   "metadata": {},
   "source": [
    "However, be aware that recursion really isn’t a strong Python feature due to the inherent\n",
    "recursion limit. Thus, this last example might be nothing more than an academic curiosity\n",
    "in practice.\n",
    "\n",
    "-- 此类问题用 recursion 处理难以理解, 实用性不大, 只作研究之用."
   ]
  },
  {
   "cell_type": "markdown",
   "metadata": {},
   "source": [
    "## 1.3. Keeping the Last N Items\n",
    "\n",
    "### Problem\n",
    "\n",
    "You want to keep a limited history of the last few items seen during iteration or during\n",
    "some other kind of processing.\n",
    "\n",
    "### Solution\n",
    "\n",
    "Keeping a limited history is a perfect use for a collections.deque. \n",
    "\n",
    "For example, the following code performs a simple text match on a sequence of lines and yields the\n",
    "matching line along with the previous N lines of context when found:"
   ]
  },
  {
   "cell_type": "code",
   "execution_count": 39,
   "metadata": {},
   "outputs": [
    {
     "name": "stdout",
     "output_type": "stream",
     "text": [
      "Keeping a limited history is a perfect use for a `collections.deque`.\n",
      "For example, the following code performs a simple text match on a\n",
      "sequence of lines and prints the matching line along with the previous\n",
      "N lines of context when found:\n",
      "\n",
      "[source,python]\n",
      "--------------------\n",
      "        previous_lines.append(line)\n",
      "\n",
      "# Example use on a file\n",
      "if __name__ == '__main__':\n",
      "    with open('somefile.txt') as f:\n",
      "         search(f, 'python', 5)\n",
      "--------------------\n"
     ]
    }
   ],
   "source": [
    "from collections import deque\n",
    "\n",
    "def search(lines, pattern, history=5):\n",
    "    previous_lines = deque(maxlen=history)\n",
    "    for line in lines:\n",
    "        if pattern in line:\n",
    "            yield line, previous_lines\n",
    "        previous_lines.append(line)\n",
    "        \n",
    "# Example use on a file\n",
    "\n",
    "if __name__ == '__main__':\n",
    "    with open('somefile.txt') as f:\n",
    "        for line, prevlines in search(f, 'python', 5):\n",
    "            for pline in prevlines:\n",
    "                print(pline, end='')\n",
    "            print(line, end='')\n",
    "            print('-'*20)"
   ]
  },
  {
   "cell_type": "markdown",
   "metadata": {},
   "source": [
    "### Discussion\n",
    "\n",
    "When writing code to search for items, it is common to use a `generator` function involving\n",
    "`yield`, as shown in this recipe’s solution. This decouples the process of searching\n",
    "from the code that uses the results. If you’re new to generators, see Recipe 4.3.\n",
    "Using deque(maxlen=N) creates a fixed-sized queue. When new items are added and\n",
    "the queue is full, the oldest item is automatically removed. \n",
    "\n",
    "For example:"
   ]
  },
  {
   "cell_type": "code",
   "execution_count": 40,
   "metadata": {},
   "outputs": [
    {
     "data": {
      "text/plain": [
       "deque([1, 2, 3])"
      ]
     },
     "execution_count": 40,
     "metadata": {},
     "output_type": "execute_result"
    }
   ],
   "source": [
    ">>> q = deque(maxlen=3)\n",
    ">>> q.append(1)\n",
    ">>> q.append(2)\n",
    ">>> q.append(3)\n",
    ">>> q"
   ]
  },
  {
   "cell_type": "code",
   "execution_count": 41,
   "metadata": {},
   "outputs": [
    {
     "data": {
      "text/plain": [
       "deque([2, 3, 4])"
      ]
     },
     "execution_count": 41,
     "metadata": {},
     "output_type": "execute_result"
    }
   ],
   "source": [
    ">>> q.append(4)\n",
    ">>> q"
   ]
  },
  {
   "cell_type": "code",
   "execution_count": 42,
   "metadata": {},
   "outputs": [
    {
     "data": {
      "text/plain": [
       "deque([3, 4, 5])"
      ]
     },
     "execution_count": 42,
     "metadata": {},
     "output_type": "execute_result"
    }
   ],
   "source": [
    ">>> q.append(5)\n",
    ">>> q"
   ]
  },
  {
   "cell_type": "code",
   "execution_count": 43,
   "metadata": {},
   "outputs": [
    {
     "data": {
      "text/plain": [
       "deque([3, 4, 5])"
      ]
     },
     "execution_count": 43,
     "metadata": {},
     "output_type": "execute_result"
    }
   ],
   "source": [
    "deque([3, 4, 5], maxlen=3)"
   ]
  },
  {
   "cell_type": "markdown",
   "metadata": {},
   "source": [
    "Although you could manually perform such operations on a list (e.g., appending, deleting,\n",
    "etc.), the queue solution is far more elegant and runs a lot faster.\n",
    "\n",
    "More generally, a deque can be used whenever you need a simple queue structure. If\n",
    "you don’t give it a maximum size, you get an unbounded queue that lets you append\n",
    "and pop items on either end. \n",
    "\n",
    "For example:"
   ]
  },
  {
   "cell_type": "code",
   "execution_count": 44,
   "metadata": {},
   "outputs": [
    {
     "data": {
      "text/plain": [
       "deque([1, 2, 3])"
      ]
     },
     "execution_count": 44,
     "metadata": {},
     "output_type": "execute_result"
    }
   ],
   "source": [
    ">>> q = deque()\n",
    ">>> q.append(1)\n",
    ">>> q.append(2)\n",
    ">>> q.append(3)\n",
    ">>> q"
   ]
  },
  {
   "cell_type": "code",
   "execution_count": 45,
   "metadata": {},
   "outputs": [
    {
     "data": {
      "text/plain": [
       "deque([4, 1, 2, 3])"
      ]
     },
     "execution_count": 45,
     "metadata": {},
     "output_type": "execute_result"
    }
   ],
   "source": [
    ">>> q.appendleft(4)\n",
    ">>> q"
   ]
  },
  {
   "cell_type": "code",
   "execution_count": 46,
   "metadata": {},
   "outputs": [
    {
     "data": {
      "text/plain": [
       "3"
      ]
     },
     "execution_count": 46,
     "metadata": {},
     "output_type": "execute_result"
    }
   ],
   "source": [
    ">>> q.pop()"
   ]
  },
  {
   "cell_type": "code",
   "execution_count": 47,
   "metadata": {},
   "outputs": [
    {
     "data": {
      "text/plain": [
       "deque([4, 1, 2])"
      ]
     },
     "execution_count": 47,
     "metadata": {},
     "output_type": "execute_result"
    }
   ],
   "source": [
    ">>> q"
   ]
  },
  {
   "cell_type": "code",
   "execution_count": 48,
   "metadata": {},
   "outputs": [
    {
     "data": {
      "text/plain": [
       "4"
      ]
     },
     "execution_count": 48,
     "metadata": {},
     "output_type": "execute_result"
    }
   ],
   "source": [
    ">>> q.popleft()"
   ]
  },
  {
   "cell_type": "markdown",
   "metadata": {},
   "source": [
    "Adding or popping items from either end of a queue has `O(1)` complexity. This is unlike\n",
    "a list where inserting or removing items from the front of the list is `O(N)`."
   ]
  },
  {
   "cell_type": "markdown",
   "metadata": {},
   "source": [
    "## 1.4. Finding the Largest or Smallest N Items\n",
    "\n",
    "### Problem\n",
    "\n",
    "You want to make a list of the largest or smallest N items in a collection.\n",
    "\n",
    "### Solution\n",
    "\n",
    "The heapq module has two functions — `nlargest()` and `nsmallest()` — that do exactly\n",
    "what you want. \n",
    "\n",
    "For example:"
   ]
  },
  {
   "cell_type": "code",
   "execution_count": 4,
   "metadata": {},
   "outputs": [
    {
     "name": "stdout",
     "output_type": "stream",
     "text": [
      "[42, 37, 23]\n",
      "[-4, 1, 2]\n"
     ]
    }
   ],
   "source": [
    "import heapq\n",
    "nums = [1, 8, 2, 23, 7, -4, 18, 23, 42, 37, 2]\n",
    "print(heapq.nlargest(3, nums)) # Prints [42, 37, 23]\n",
    "print(heapq.nsmallest(3, nums)) # Prints [-4, 1, 2]"
   ]
  },
  {
   "cell_type": "markdown",
   "metadata": {},
   "source": [
    "Both functions also accept a key parameter that allows them to be used with more\n",
    "complicated data structures. \n",
    "\n",
    "For example:"
   ]
  },
  {
   "cell_type": "code",
   "execution_count": 5,
   "metadata": {},
   "outputs": [],
   "source": [
    "portfolio = [\n",
    "{'name': 'IBM', 'shares': 100, 'price': 91.1},\n",
    "{'name': 'AAPL', 'shares': 50, 'price': 543.22},\n",
    "{'name': 'FB', 'shares': 200, 'price': 21.09},\n",
    "{'name': 'HPQ', 'shares': 35, 'price': 31.75},\n",
    "{'name': 'YHOO', 'shares': 45, 'price': 16.35},\n",
    "{'name': 'ACME', 'shares': 75, 'price': 115.65}\n",
    "]\n",
    "cheap = heapq.nsmallest(3, portfolio, key=lambda s: s['price'])\n",
    "expensive = heapq.nlargest(3, portfolio, key=lambda s: s['price'])"
   ]
  },
  {
   "cell_type": "markdown",
   "metadata": {},
   "source": [
    "### Discussion\n",
    "\n",
    "If you are looking for the N smallest or largest items and N is small compared to the\n",
    "overall size of the collection, these functions provide superior performance. Underneath\n",
    "the covers, they work by first converting the data into a list where items are ordered as\n",
    "a heap. \n",
    "\n",
    "For example:"
   ]
  },
  {
   "cell_type": "code",
   "execution_count": 9,
   "metadata": {},
   "outputs": [
    {
     "data": {
      "text/plain": [
       "[-4, 2, 1, 23, 7, 2, 18, 23, 42, 37, 8]"
      ]
     },
     "execution_count": 9,
     "metadata": {},
     "output_type": "execute_result"
    }
   ],
   "source": [
    ">>> nums = [1, 8, 2, 23, 7, -4, 18, 23, 42, 37, 2]\n",
    ">>> import heapq\n",
    ">>> heap = list(nums)\n",
    ">>> heapq.heapify(heap)\n",
    ">>> heap"
   ]
  },
  {
   "cell_type": "markdown",
   "metadata": {},
   "source": [
    "The most important feature of a heap is that `heap[0]` is always the smallest item. Moreover,\n",
    "subsequent items can be easily found using the `heapq.heappop()` method, which\n",
    "pops off the first item and replaces it with the next smallest item (an operation that\n",
    "requires `O(log N)` operations where N is the size of the heap). \n",
    "\n",
    "For example, to find the three smallest items, you would do this:"
   ]
  },
  {
   "cell_type": "code",
   "execution_count": 10,
   "metadata": {},
   "outputs": [
    {
     "data": {
      "text/plain": [
       "-4"
      ]
     },
     "execution_count": 10,
     "metadata": {},
     "output_type": "execute_result"
    }
   ],
   "source": [
    ">>> heapq.heappop(heap)"
   ]
  },
  {
   "cell_type": "code",
   "execution_count": 11,
   "metadata": {},
   "outputs": [
    {
     "data": {
      "text/plain": [
       "1"
      ]
     },
     "execution_count": 11,
     "metadata": {},
     "output_type": "execute_result"
    }
   ],
   "source": [
    ">>> heapq.heappop(heap)"
   ]
  },
  {
   "cell_type": "code",
   "execution_count": 12,
   "metadata": {},
   "outputs": [
    {
     "data": {
      "text/plain": [
       "2"
      ]
     },
     "execution_count": 12,
     "metadata": {},
     "output_type": "execute_result"
    }
   ],
   "source": [
    ">>> heapq.heappop(heap)"
   ]
  },
  {
   "cell_type": "markdown",
   "metadata": {},
   "source": [
    "The `nlargest()` and `nsmallest()` functions are most appropriate if you are trying to\n",
    "find a relatively small number of items. If you are simply trying to find the single smallest\n",
    "or largest item (N=1), it is faster to use min() and max(). Similarly, if N is about the\n",
    "same size as the collection itself, it is usually faster to sort it first and take a slice (i.e.,\n",
    "use `sorted(items)[:N]` or `sorted(items)[-N:])`. \n",
    "\n",
    "It should be noted that the actual implementation of `nlargest()` and `nsmallest()` is adaptive in how it operates and will\n",
    "carry out some of these optimizations on your behalf (e.g., using sorting if N is close to\n",
    "the same size as the input).\n",
    "\n",
    "Although it’s not necessary to use this recipe, the implementation of a heap is an interesting\n",
    "and worthwhile subject of study. This can usually be found in any decent book\n",
    "on algorithms and data structures. The documentation for the heapq module also discusses\n",
    "the underlying implementation details."
   ]
  },
  {
   "cell_type": "markdown",
   "metadata": {},
   "source": [
    "## 1.5. Implementing a Priority Queue\n",
    "\n",
    "### Problem\n",
    "\n",
    "You want to implement a queue that sorts items by a given priority and always returns\n",
    "the item with the highest priority on each pop operation.\n",
    "\n",
    "### Solution\n",
    "\n",
    "The following class uses the heapq module to implement a simple priority queue:"
   ]
  },
  {
   "cell_type": "code",
   "execution_count": 15,
   "metadata": {},
   "outputs": [],
   "source": [
    "import heapq\n",
    "\n",
    "class PriorityQueue:\n",
    "    \n",
    "    def __init__(self):\n",
    "        self._queue = []\n",
    "        self._index = 0\n",
    "        \n",
    "    def push(self, item, priority):\n",
    "        heapq.heappush(self._queue, (-priority, self._index, item))\n",
    "        self._index += 1\n",
    "        \n",
    "    def pop(self):\n",
    "        return heapq.heappop(self._queue)[-1]"
   ]
  },
  {
   "cell_type": "markdown",
   "metadata": {},
   "source": [
    "-----\n",
    "doc from https://docs.python.org/3.0/library/heapq.html\n",
    "\n",
    "Using a heap to insert items at the correct place in a priority queue:\n",
    "\n",
    "```python\n",
    ">>> heap = []\n",
    ">>> data = [(1, 'J'), (4, 'N'), (3, 'H'), (2, 'O')]  # 前面数字是位置信息.\n",
    ">>> for item in data:\n",
    "...     heappush(heap, item)\n",
    "...\n",
    ">>> while heap:\n",
    "...     print(heappop(heap)[1])\n",
    "J\n",
    "O\n",
    "H\n",
    "N\n",
    "```\n",
    "-----"
   ]
  },
  {
   "cell_type": "markdown",
   "metadata": {},
   "source": [
    "Here is an example of how it might be used:"
   ]
  },
  {
   "cell_type": "code",
   "execution_count": 29,
   "metadata": {},
   "outputs": [],
   "source": [
    "class Item:\n",
    "    \n",
    "    def __init__(self, name):\n",
    "        self.name = name\n",
    "    \n",
    "    def __repr__(self):\n",
    "        return 'Item({!r})'.format(self.name)"
   ]
  },
  {
   "cell_type": "code",
   "execution_count": 19,
   "metadata": {},
   "outputs": [
    {
     "data": {
      "text/plain": [
       "Item('bar')"
      ]
     },
     "execution_count": 19,
     "metadata": {},
     "output_type": "execute_result"
    }
   ],
   "source": [
    ">>> q = PriorityQueue()\n",
    ">>> q.push(Item('foo'), 1)\n",
    ">>> q.push(Item('bar'), 5)\n",
    ">>> q.push(Item('spam'), 4)\n",
    ">>> q.push(Item('grok'), 1)\n",
    ">>> q.pop()"
   ]
  },
  {
   "cell_type": "code",
   "execution_count": 20,
   "metadata": {},
   "outputs": [
    {
     "data": {
      "text/plain": [
       "Item('spam')"
      ]
     },
     "execution_count": 20,
     "metadata": {},
     "output_type": "execute_result"
    }
   ],
   "source": [
    ">>> q.pop()"
   ]
  },
  {
   "cell_type": "code",
   "execution_count": 21,
   "metadata": {},
   "outputs": [
    {
     "data": {
      "text/plain": [
       "Item('foo')"
      ]
     },
     "execution_count": 21,
     "metadata": {},
     "output_type": "execute_result"
    }
   ],
   "source": [
    ">>> q.pop()"
   ]
  },
  {
   "cell_type": "code",
   "execution_count": 22,
   "metadata": {},
   "outputs": [
    {
     "data": {
      "text/plain": [
       "Item('grok')"
      ]
     },
     "execution_count": 22,
     "metadata": {},
     "output_type": "execute_result"
    }
   ],
   "source": [
    ">>> q.pop()"
   ]
  },
  {
   "cell_type": "markdown",
   "metadata": {},
   "source": [
    "-----\n",
    "Note for `'Item({!r})'.format(self.name)`\n",
    "\n",
    "In order to format something in a string, a string representation of that something must first be created. \"convert the value\" is basically talking about how the string representation is to be constructed. In python, there are two fairly natural choices to get a string representation of something ... `str` and `repr`.  `str` is generally a little more human friendly, `repr` is generally more precise. Perhaps the official documentation is the best place to go looking for the difference:\n",
    "\n",
    "`object.__repr__(self)`\n",
    "\n",
    " - Called by the `repr()` built-in function to compute the “official” string representation of an object. If at all possible, this should look like a valid Python expression that could be used to recreate an object with the same value (given an appropriate environment). If this is not possible, a string of the form `<...some useful description...>` should be returned. The return value must be a string object. If a class defines `__repr__()` but not `__str__()`, then `__repr__()` is also used when an “informal” string representation of instances of that class is required.\n",
    "\n",
    "- This is typically used for debugging, so it is important that the representation is information-rich and unambiguous.\n",
    "\n",
    "`object.__str__(self)`\n",
    "\n",
    "- Called by str(object) and the built-in functions format() and print() to compute the “informal” or nicely printable string representation of an object. The return value must be a string object.\n",
    "\n",
    "- This method differs from `object.__repr__()` in that there is no expectation that `__str__()` return a valid Python expression: a more convenient or concise representation can be used.\n",
    "\n",
    "- The default implementation defined by the built-in type object calls `object.__repr__()`.\n",
    "\n",
    "In `str.format`, `!s` chooses to use str to format the object whereas `!r` chooses repr to format the value.\n",
    "\n",
    "The difference can easily be seen with strings (as `repr` for a string will include outer quotes).:\n",
    "\n",
    "```python\n",
    ">>> 'foo {}'.format('bar')\n",
    "'foo bar'\n",
    ">>> 'foo {!r}'.format('bar')\n",
    "\"foo 'bar'\"\n",
    "```\n",
    "\n",
    "What the difference between these two methods really depends critically on the objects being formatted. For many objects (e.g. those that don't override the `__str__` method), there will be no difference in the formatted output.\n",
    "\n",
    "-----"
   ]
  },
  {
   "cell_type": "markdown",
   "metadata": {},
   "source": [
    "Observe how the first `pop()` operation returned the item with the highest priority. Also\n",
    "observe how the two items with the same priority (foo and grok) were returned in the\n",
    "same order in which they were inserted into the queue.\n",
    "\n",
    "### Discussion\n",
    "\n",
    "The core of this recipe concerns the use of the heapq module. The functions `heapq.heappush()` and \n",
    "`heapq.heappop()` insert and remove items from a list `_queue` in a way such\n",
    "that the first item in the list has the smallest priority (as discussed in Recipe 1.4). The\n",
    "`heappop()` method always returns the “smallest” item, so that is the key to making the\n",
    "queue pop the correct items. Moreover, since the push and pop operations have `O(logN)` \n",
    "complexity where N is the number of items in the heap, they are fairly efficient even\n",
    "for fairly large values of N.\n",
    "\n",
    "In this recipe, the queue consists of tuples of the form `(-priority, index, item)`. The\n",
    "priority value is negated to get the queue to sort items from highest priority to lowest\n",
    "priority. This is opposite of the normal heap ordering, which sorts from lowest to highest\n",
    "value.\n",
    "\n",
    "The role of the index variable is to properly order items with the same priority level.\n",
    "By keeping a constantly increasing index, the items will be sorted according to the order\n",
    "in which they were inserted. \n",
    "\n",
    "However, the index also serves an important role in making\n",
    "the comparison operations work for items that have the same priority level.\n",
    "\n",
    "To elaborate on that, instances of Item in the example can’t be ordered. \n",
    "\n",
    "For example:"
   ]
  },
  {
   "cell_type": "code",
   "execution_count": 23,
   "metadata": {},
   "outputs": [
    {
     "ename": "TypeError",
     "evalue": "'<' not supported between instances of 'Item' and 'Item'",
     "output_type": "error",
     "traceback": [
      "\u001b[1;31m---------------------------------------------------------------------------\u001b[0m",
      "\u001b[1;31mTypeError\u001b[0m                                 Traceback (most recent call last)",
      "\u001b[1;32m<ipython-input-23-222f9c0f0d57>\u001b[0m in \u001b[0;36m<module>\u001b[1;34m()\u001b[0m\n\u001b[0;32m      1\u001b[0m \u001b[0ma\u001b[0m \u001b[1;33m=\u001b[0m \u001b[0mItem\u001b[0m\u001b[1;33m(\u001b[0m\u001b[1;34m'foo'\u001b[0m\u001b[1;33m)\u001b[0m\u001b[1;33m\u001b[0m\u001b[0m\n\u001b[0;32m      2\u001b[0m \u001b[0mb\u001b[0m \u001b[1;33m=\u001b[0m \u001b[0mItem\u001b[0m\u001b[1;33m(\u001b[0m\u001b[1;34m'bar'\u001b[0m\u001b[1;33m)\u001b[0m\u001b[1;33m\u001b[0m\u001b[0m\n\u001b[1;32m----> 3\u001b[1;33m \u001b[0ma\u001b[0m \u001b[1;33m<\u001b[0m \u001b[0mb\u001b[0m\u001b[1;33m\u001b[0m\u001b[0m\n\u001b[0m",
      "\u001b[1;31mTypeError\u001b[0m: '<' not supported between instances of 'Item' and 'Item'"
     ]
    }
   ],
   "source": [
    ">>> a = Item('foo')\n",
    ">>> b = Item('bar')\n",
    ">>> a < b"
   ]
  },
  {
   "cell_type": "markdown",
   "metadata": {},
   "source": [
    "If you make `(priority, item)` tuples, they can be compared as long as the priorities\n",
    "are different. However, if two tuples with equal priorities are compared, the comparison\n",
    "fails as before. \n",
    "\n",
    "For example:"
   ]
  },
  {
   "cell_type": "code",
   "execution_count": 24,
   "metadata": {},
   "outputs": [
    {
     "data": {
      "text/plain": [
       "True"
      ]
     },
     "execution_count": 24,
     "metadata": {},
     "output_type": "execute_result"
    }
   ],
   "source": [
    ">>> a = (1, Item('foo'))\n",
    ">>> b = (5, Item('bar'))\n",
    ">>> a < b"
   ]
  },
  {
   "cell_type": "code",
   "execution_count": 25,
   "metadata": {},
   "outputs": [
    {
     "ename": "TypeError",
     "evalue": "'<' not supported between instances of 'Item' and 'Item'",
     "output_type": "error",
     "traceback": [
      "\u001b[1;31m---------------------------------------------------------------------------\u001b[0m",
      "\u001b[1;31mTypeError\u001b[0m                                 Traceback (most recent call last)",
      "\u001b[1;32m<ipython-input-25-6faed17700c8>\u001b[0m in \u001b[0;36m<module>\u001b[1;34m()\u001b[0m\n\u001b[0;32m      1\u001b[0m \u001b[0mc\u001b[0m \u001b[1;33m=\u001b[0m \u001b[1;33m(\u001b[0m\u001b[1;36m1\u001b[0m\u001b[1;33m,\u001b[0m \u001b[0mItem\u001b[0m\u001b[1;33m(\u001b[0m\u001b[1;34m'grok'\u001b[0m\u001b[1;33m)\u001b[0m\u001b[1;33m)\u001b[0m\u001b[1;33m\u001b[0m\u001b[0m\n\u001b[1;32m----> 2\u001b[1;33m \u001b[0ma\u001b[0m \u001b[1;33m<\u001b[0m \u001b[0mc\u001b[0m\u001b[1;33m\u001b[0m\u001b[0m\n\u001b[0m",
      "\u001b[1;31mTypeError\u001b[0m: '<' not supported between instances of 'Item' and 'Item'"
     ]
    }
   ],
   "source": [
    ">>> c = (1, Item('grok'))\n",
    ">>> a < c"
   ]
  },
  {
   "cell_type": "markdown",
   "metadata": {},
   "source": [
    "By introducing the extra index and making `(priority, index, item)` tuples, you avoid\n",
    "this problem entirely since no two tuples will ever have the same value for index (and\n",
    "Python never bothers to compare the remaining tuple values once the result of comparison\n",
    "can be determined):"
   ]
  },
  {
   "cell_type": "code",
   "execution_count": 26,
   "metadata": {},
   "outputs": [
    {
     "data": {
      "text/plain": [
       "True"
      ]
     },
     "execution_count": 26,
     "metadata": {},
     "output_type": "execute_result"
    }
   ],
   "source": [
    ">>> a = (1, 0, Item('foo'))\n",
    ">>> b = (5, 1, Item('bar'))\n",
    ">>> c = (1, 2, Item('grok'))\n",
    ">>> a < b"
   ]
  },
  {
   "cell_type": "code",
   "execution_count": 27,
   "metadata": {},
   "outputs": [
    {
     "data": {
      "text/plain": [
       "True"
      ]
     },
     "execution_count": 27,
     "metadata": {},
     "output_type": "execute_result"
    }
   ],
   "source": [
    ">>> a < c"
   ]
  },
  {
   "cell_type": "markdown",
   "metadata": {},
   "source": [
    "If you want to use this queue for communication between threads, you need to add\n",
    "appropriate locking and signaling. See Recipe 12.3 for an example of how to do this.\n",
    "The documentation for the heapq module has further examples and discussion concerning\n",
    "the theory and implementation of heaps."
   ]
  },
  {
   "cell_type": "markdown",
   "metadata": {},
   "source": [
    "## 1.6. `defaultdict`: Mapping Keys to Multiple Values in a Dictionary\n",
    "\n",
    "### Problem\n",
    "\n",
    "You want to make a dictionary that maps keys to more than one value (a so-called\n",
    "“multidict”).\n",
    "\n",
    "### Solution\n",
    "\n",
    "A dictionary is a mapping where each key is mapped to a single value. If you want to\n",
    "map keys to multiple values, you need to **store the multiple values in another container\n",
    "such as a list or set**. \n",
    "\n",
    "For example, you might make dictionaries like this:"
   ]
  },
  {
   "cell_type": "code",
   "execution_count": 1,
   "metadata": {},
   "outputs": [],
   "source": [
    "d = {\n",
    "'a' : [1, 2, 3],\n",
    "'b' : [4, 5]\n",
    "}\n",
    "e = {\n",
    "'a' : {1, 2, 3},\n",
    "'b' : {4, 5}\n",
    "}"
   ]
  },
  {
   "cell_type": "markdown",
   "metadata": {},
   "source": [
    "The choice of whether or not to use lists or sets depends on intended use. Use a list if\n",
    "you want to preserve the insertion order of the items. Use a set if you want to eliminate\n",
    "duplicates (and don’t care about the order).\n",
    "\n",
    "To easily construct such dictionaries, you can use `defaultdict` in the `collections`\n",
    "module. A feature of defaultdict is that it automatically initializes the first value so\n",
    "you can simply focus on adding items. \n",
    "\n",
    "For example:"
   ]
  },
  {
   "cell_type": "code",
   "execution_count": 3,
   "metadata": {},
   "outputs": [
    {
     "data": {
      "text/plain": [
       "defaultdict(list, {'a': [1, 2], 'b': [4]})"
      ]
     },
     "execution_count": 3,
     "metadata": {},
     "output_type": "execute_result"
    }
   ],
   "source": [
    "from collections import defaultdict\n",
    "\n",
    "d = defaultdict(list)\n",
    "d['a'].append(1)\n",
    "d['a'].append(2)\n",
    "d['b'].append(4)\n",
    "d"
   ]
  },
  {
   "cell_type": "code",
   "execution_count": 4,
   "metadata": {},
   "outputs": [
    {
     "data": {
      "text/plain": [
       "defaultdict(set, {'a': {1, 2}, 'b': {4}})"
      ]
     },
     "execution_count": 4,
     "metadata": {},
     "output_type": "execute_result"
    }
   ],
   "source": [
    "d = defaultdict(set)\n",
    "d['a'].add(1)\n",
    "d['a'].add(2)\n",
    "d['b'].add(4)\n",
    "d"
   ]
  },
  {
   "cell_type": "markdown",
   "metadata": {},
   "source": [
    "One caution with defaultdict is that it will automatically create dictionary entries for\n",
    "keys accessed later on (even if they aren’t currently found in the dictionary). If you don’t\n",
    "want this behavior, you might use `setdefault()` on an ordinary dictionary instead. \n",
    "\n",
    "For example:"
   ]
  },
  {
   "cell_type": "code",
   "execution_count": 5,
   "metadata": {},
   "outputs": [
    {
     "data": {
      "text/plain": [
       "{'a': [1, 2], 'b': [4]}"
      ]
     },
     "execution_count": 5,
     "metadata": {},
     "output_type": "execute_result"
    }
   ],
   "source": [
    "d = {} # A regular dictionary\n",
    "d.setdefault('a', []).append(1)\n",
    "d.setdefault('a', []).append(2)\n",
    "d.setdefault('b', []).append(4)\n",
    "d"
   ]
  },
  {
   "cell_type": "markdown",
   "metadata": {},
   "source": [
    "However, many programmers find `setdefault()` to be a little unnatural—not to mention\n",
    "the fact that it always creates a new instance of the initial value on each invocation (n.调用,请求)\n",
    "(the empty list [] in the example).\n",
    "\n",
    "### Discussion\n",
    "\n",
    "In principle, constructing a multivalued dictionary is simple. However, initialization of\n",
    "the first value can be messy if you try to do it yourself. \n",
    "\n",
    "For example, you might have code that looks like this:\n",
    "\n",
    "```python\n",
    "d = {}\n",
    "for key, value in pairs:\n",
    "    if key not in d:\n",
    "        d[key] = []\n",
    "    d[key].append(value)\n",
    "```\n",
    "\n",
    "Using a defaultdict simply leads to much cleaner code:\n",
    "\n",
    "```python\n",
    "d = defaultdict(list)\n",
    "for key, value in pairs:\n",
    "    d[key].append(value)\n",
    "```\n",
    "\n",
    "This recipe is strongly related to the problem of grouping records together in data processing\n",
    "problems. See Recipe 1.15 for an example."
   ]
  },
  {
   "cell_type": "markdown",
   "metadata": {},
   "source": [
    "## 1.7. `OrderedDict`: Keeping Dictionaries in Order\n",
    "\n",
    "### Problem\n",
    "\n",
    "You want to create a dictionary, and you also want to control the order of items when\n",
    "iterating or serializing.\n",
    "\n",
    "### Solution\n",
    "\n",
    "To control the order of items in a dictionary, you can use an `OrderedDict` from the\n",
    "collections module. It exactly preserves the original insertion order of data when\n",
    "iterating. \n",
    "\n",
    "For example:"
   ]
  },
  {
   "cell_type": "code",
   "execution_count": 8,
   "metadata": {},
   "outputs": [
    {
     "name": "stdout",
     "output_type": "stream",
     "text": [
      "foo 1\n",
      "bar 2\n",
      "spam 3\n",
      "grok 4\n"
     ]
    }
   ],
   "source": [
    "from collections import OrderedDict\n",
    "d = OrderedDict()\n",
    "d['foo'] = 1\n",
    "d['bar'] = 2\n",
    "d['spam'] = 3\n",
    "d['grok'] = 4\n",
    "# Outputs \"foo 1\", \"bar 2\", \"spam 3\", \"grok 4\"\n",
    "for key in d:\n",
    "    print(key, d[key])"
   ]
  },
  {
   "cell_type": "markdown",
   "metadata": {},
   "source": [
    "An `OrderedDict` can be particularly useful when you want to build a mapping that you\n",
    "may want to later serialize or encode into a different format. \n",
    "\n",
    "For example, if you want to precisely control the order of fields appearing in a JSON encoding, \n",
    "first building the data in an `OrderedDict` will do the trick:"
   ]
  },
  {
   "cell_type": "code",
   "execution_count": 10,
   "metadata": {},
   "outputs": [
    {
     "data": {
      "text/plain": [
       "'{\"foo\": 1, \"bar\": 2, \"spam\": 3, \"grok\": 4}'"
      ]
     },
     "execution_count": 10,
     "metadata": {},
     "output_type": "execute_result"
    }
   ],
   "source": [
    ">>> import json\n",
    ">>> json.dumps(d)"
   ]
  },
  {
   "cell_type": "markdown",
   "metadata": {},
   "source": [
    "### Discussion\n",
    "\n",
    "缺点是: 占用了两倍的空间.\n",
    "\n",
    "An `OrderedDict` internally maintains a doubly linked list that orders the keys according\n",
    "to insertion order. \n",
    "\n",
    "When a new item is first inserted, it is placed at the end of this list.\n",
    "Subsequent reassignment of an existing key doesn’t change the order.\n",
    "\n",
    "Be aware that the size of an `OrderedDict` is more than twice as large as a normal dictionary\n",
    "due to the extra linked list that’s created. Thus, if you are going to build a data\n",
    "structure involving a large number of `OrderedDict` instances (e.g., reading 100,000 lines\n",
    "of a CSV file into a list of OrderedDict instances), you would need to study the requirements\n",
    "of your application to determine if the benefits of using an OrderedDict\n",
    "outweighed the extra memory overhead."
   ]
  },
  {
   "cell_type": "markdown",
   "metadata": {},
   "source": [
    "## 1.8. Calculating with Dictionaries\n",
    "\n",
    "### Problem\n",
    "\n",
    "You want to perform various calculations (e.g., minimum value, maximum value, sorting,\n",
    "etc.) on a dictionary of data.\n",
    "\n",
    "### Solution\n",
    "\n",
    "Consider a dictionary that maps stock names to prices:"
   ]
  },
  {
   "cell_type": "code",
   "execution_count": 11,
   "metadata": {},
   "outputs": [],
   "source": [
    "prices = {\n",
    "'ACME': 45.23,\n",
    "'AAPL': 612.78,\n",
    "'IBM': 205.55,\n",
    "'HPQ': 37.20,\n",
    "'FB': 10.75\n",
    "}"
   ]
  },
  {
   "cell_type": "markdown",
   "metadata": {},
   "source": [
    "In order to perform useful calculations on the dictionary contents, it is often useful to\n",
    "invert the keys and values of the dictionary using `zip()`. \n",
    "\n",
    "For example, here is how to find the minimum and maximum price and stock name:"
   ]
  },
  {
   "cell_type": "code",
   "execution_count": 14,
   "metadata": {},
   "outputs": [
    {
     "data": {
      "text/plain": [
       "(10.75, 'FB')"
      ]
     },
     "execution_count": 14,
     "metadata": {},
     "output_type": "execute_result"
    }
   ],
   "source": [
    "min_price = min(zip(prices.values(), prices.keys()))\n",
    "# min_price is (10.75, 'FB')\n",
    "min_price"
   ]
  },
  {
   "cell_type": "code",
   "execution_count": 15,
   "metadata": {},
   "outputs": [
    {
     "data": {
      "text/plain": [
       "(612.78, 'AAPL')"
      ]
     },
     "execution_count": 15,
     "metadata": {},
     "output_type": "execute_result"
    }
   ],
   "source": [
    "max_price = max(zip(prices.values(), prices.keys()))\n",
    "# max_price is (612.78, 'AAPL')\n",
    "max_price"
   ]
  },
  {
   "cell_type": "markdown",
   "metadata": {},
   "source": [
    "-----\n",
    "#### note: Python3 zip() 内置函数\n",
    "\n",
    "##### 描述\n",
    "\n",
    "zip() 函数用于将可迭代的对象作为参数，将对象中对应的元素打包成一个个元组，然后返回由这些元组组成的对象，这样做的好处是节约了不少的内存。\n",
    "\n",
    "我们可以使用 list() 转换来输出列表。\n",
    "\n",
    "如果各个迭代器的元素个数不一致，则返回列表长度与最短的对象相同，利用 * 号操作符，可以将元组解压为列表。\n",
    "\n",
    "zip 方法在 Python 2 和 Python 3 中的不同：在 Python 2.x zip() 返回的是一个列表。\n",
    "\n",
    "##### 语法\n",
    "zip 语法： zip([iterable, ...])\n",
    "\n",
    "##### 参数说明：\n",
    "\n",
    "iterabl -- 一个或多个迭代器;\n",
    "返回值: 返回一个对象。\n",
    "\n",
    "##### 实例 以下实例展示了 zip 的使用方法：\n",
    "\n",
    "```python\n",
    ">>>a = [1,2,3]\n",
    ">>> b = [4,5,6]\n",
    ">>> c = [4,5,6,7,8]\n",
    ">>> zipped = zip(a,b)     # 返回一个对象\n",
    ">>> zipped\n",
    "<zip object at 0x103abc288>\n",
    ">>> list(zipped)  # list() 转换为列表\n",
    "[(1, 4), (2, 5), (3, 6)]\n",
    ">>> list(zip(a,c))              # 元素个数与最短的列表一致\n",
    "[(1, 4), (2, 5), (3, 6)]\n",
    " \n",
    ">>> a1, a2 = zip(*zip(a,b))          # 与 zip 相反，zip(*) 可理解为解压，返回二维矩阵式\n",
    ">>> list(a1)\n",
    "[1, 2, 3]\n",
    ">>> list(a2)\n",
    "[4, 5, 6]\n",
    ">>>\n",
    "```\n",
    "-----"
   ]
  },
  {
   "cell_type": "markdown",
   "metadata": {},
   "source": [
    "Similarly, to rank the data, use `zip()` with `sorted()`, as in the following:"
   ]
  },
  {
   "cell_type": "code",
   "execution_count": 17,
   "metadata": {},
   "outputs": [
    {
     "data": {
      "text/plain": [
       "[(10.75, 'FB'),\n",
       " (37.2, 'HPQ'),\n",
       " (45.23, 'ACME'),\n",
       " (205.55, 'IBM'),\n",
       " (612.78, 'AAPL')]"
      ]
     },
     "execution_count": 17,
     "metadata": {},
     "output_type": "execute_result"
    }
   ],
   "source": [
    "prices_sorted = sorted(zip(prices.values(), prices.keys()))\n",
    "# prices_sorted is [(10.75, 'FB'), (37.2, 'HPQ'),\n",
    "# (45.23, 'ACME'), (205.55, 'IBM'),\n",
    "# (612.78, 'AAPL')]\n",
    "prices_sorted"
   ]
  },
  {
   "cell_type": "markdown",
   "metadata": {},
   "source": [
    "When doing these calculations, be aware that `zip()` creates an iterator that can **only be consumed once**. \n",
    "\n",
    "For example, the following code is an error:"
   ]
  },
  {
   "cell_type": "code",
   "execution_count": 19,
   "metadata": {},
   "outputs": [
    {
     "name": "stdout",
     "output_type": "stream",
     "text": [
      "(10.75, 'FB')\n"
     ]
    }
   ],
   "source": [
    "prices_and_names = zip(prices.values(), prices.keys())\n",
    "print(min(prices_and_names)) # OK"
   ]
  },
  {
   "cell_type": "code",
   "execution_count": 20,
   "metadata": {},
   "outputs": [
    {
     "ename": "ValueError",
     "evalue": "max() arg is an empty sequence",
     "output_type": "error",
     "traceback": [
      "\u001b[1;31m---------------------------------------------------------------------------\u001b[0m",
      "\u001b[1;31mValueError\u001b[0m                                Traceback (most recent call last)",
      "\u001b[1;32m<ipython-input-20-86ac52a204b0>\u001b[0m in \u001b[0;36m<module>\u001b[1;34m()\u001b[0m\n\u001b[1;32m----> 1\u001b[1;33m \u001b[0mprint\u001b[0m\u001b[1;33m(\u001b[0m\u001b[0mmax\u001b[0m\u001b[1;33m(\u001b[0m\u001b[0mprices_and_names\u001b[0m\u001b[1;33m)\u001b[0m\u001b[1;33m)\u001b[0m \u001b[1;31m# ValueError: max() arg is an empty sequence\u001b[0m\u001b[1;33m\u001b[0m\u001b[0m\n\u001b[0m",
      "\u001b[1;31mValueError\u001b[0m: max() arg is an empty sequence"
     ]
    }
   ],
   "source": [
    "print(max(prices_and_names)) # ValueError: max() arg is an empty sequence"
   ]
  },
  {
   "cell_type": "markdown",
   "metadata": {},
   "source": [
    "### Discussion\n",
    "\n",
    "If you try to perform common data reductions on a dictionary, you’ll find that they only\n",
    "process the keys, not the values. \n",
    "\n",
    "For example:"
   ]
  },
  {
   "cell_type": "code",
   "execution_count": 22,
   "metadata": {},
   "outputs": [
    {
     "data": {
      "text/plain": [
       "'AAPL'"
      ]
     },
     "execution_count": 22,
     "metadata": {},
     "output_type": "execute_result"
    }
   ],
   "source": [
    "min(prices) # Returns 'AAPL'"
   ]
  },
  {
   "cell_type": "code",
   "execution_count": 23,
   "metadata": {},
   "outputs": [
    {
     "data": {
      "text/plain": [
       "'IBM'"
      ]
     },
     "execution_count": 23,
     "metadata": {},
     "output_type": "execute_result"
    }
   ],
   "source": [
    "max(prices) # Returns 'IBM'"
   ]
  },
  {
   "cell_type": "markdown",
   "metadata": {},
   "source": [
    "This is probably not what you want because you’re actually trying to perform a calculation\n",
    "involving the dictionary values. You might try to fix this using the `values()`\n",
    "method of a dictionary:"
   ]
  },
  {
   "cell_type": "code",
   "execution_count": 24,
   "metadata": {},
   "outputs": [
    {
     "data": {
      "text/plain": [
       "10.75"
      ]
     },
     "execution_count": 24,
     "metadata": {},
     "output_type": "execute_result"
    }
   ],
   "source": [
    "min(prices.values()) # Returns 10.75"
   ]
  },
  {
   "cell_type": "code",
   "execution_count": 25,
   "metadata": {},
   "outputs": [
    {
     "data": {
      "text/plain": [
       "612.78"
      ]
     },
     "execution_count": 25,
     "metadata": {},
     "output_type": "execute_result"
    }
   ],
   "source": [
    "max(prices.values()) # Returns 612.78"
   ]
  },
  {
   "cell_type": "markdown",
   "metadata": {},
   "source": [
    "Unfortunately, this is often not exactly what you want either. \n",
    "\n",
    "For example, you may want to know information about the corresponding keys (e.g., which stock has the lowest\n",
    "price?).\n",
    "\n",
    "You can get the key corresponding to the min or max value if you supply a key function\n",
    "to `min()` and `max()`. \n",
    "\n",
    "For example:"
   ]
  },
  {
   "cell_type": "code",
   "execution_count": 26,
   "metadata": {},
   "outputs": [
    {
     "data": {
      "text/plain": [
       "'FB'"
      ]
     },
     "execution_count": 26,
     "metadata": {},
     "output_type": "execute_result"
    }
   ],
   "source": [
    "min(prices, key=lambda k: prices[k]) # Returns 'FB'"
   ]
  },
  {
   "cell_type": "code",
   "execution_count": 27,
   "metadata": {},
   "outputs": [
    {
     "data": {
      "text/plain": [
       "'AAPL'"
      ]
     },
     "execution_count": 27,
     "metadata": {},
     "output_type": "execute_result"
    }
   ],
   "source": [
    "max(prices, key=lambda k: prices[k]) # Returns 'AAPL'"
   ]
  },
  {
   "cell_type": "markdown",
   "metadata": {},
   "source": [
    "However, to get the minimum value, you’ll need to perform an extra lookup step. \n",
    "\n",
    "For example:"
   ]
  },
  {
   "cell_type": "code",
   "execution_count": 29,
   "metadata": {},
   "outputs": [
    {
     "data": {
      "text/plain": [
       "10.75"
      ]
     },
     "execution_count": 29,
     "metadata": {},
     "output_type": "execute_result"
    }
   ],
   "source": [
    "min_value = prices[min(prices, key=lambda k: prices[k])]\n",
    "min_value"
   ]
  },
  {
   "cell_type": "markdown",
   "metadata": {},
   "source": [
    "The solution involving `zip()` solves the problem by “inverting” the dictionary into a\n",
    "sequence of (value, key) pairs. When performing comparisons on such tuples, the\n",
    "value element is compared first, followed by the key. This gives you exactly the behavior\n",
    "that you want and allows reductions and sorting to be easily performed on the dictionary\n",
    "contents using a single statement.\n",
    "\n",
    "It should be noted that in calculations involving (value, key) pairs, the key will be\n",
    "used to determine the result in instances where multiple entries happen to have the same\n",
    "value. \n",
    "\n",
    "For instance, in calculations such as `min()` and `max()`, the entry with the smallest\n",
    "or largest key will be returned if there happen to be duplicate values. \n",
    "\n",
    "For example:"
   ]
  },
  {
   "cell_type": "code",
   "execution_count": 30,
   "metadata": {},
   "outputs": [
    {
     "data": {
      "text/plain": [
       "(45.23, 'AAA')"
      ]
     },
     "execution_count": 30,
     "metadata": {},
     "output_type": "execute_result"
    }
   ],
   "source": [
    ">>> prices = { 'AAA' : 45.23, 'ZZZ': 45.23 }\n",
    ">>> min(zip(prices.values(), prices.keys()))"
   ]
  },
  {
   "cell_type": "code",
   "execution_count": 31,
   "metadata": {},
   "outputs": [
    {
     "data": {
      "text/plain": [
       "(45.23, 'ZZZ')"
      ]
     },
     "execution_count": 31,
     "metadata": {},
     "output_type": "execute_result"
    }
   ],
   "source": [
    ">>> max(zip(prices.values(), prices.keys()))"
   ]
  },
  {
   "cell_type": "markdown",
   "metadata": {},
   "source": [
    "## 1.9. Finding Commonalities in Two Dictionaries\n",
    "\n",
    "### Problem\n",
    "\n",
    "You have two dictionaries and want to find out what they might have `in common` (same\n",
    "keys, same values, etc.).\n",
    "\n",
    "### Solution\n",
    "\n",
    "Consider two dictionaries:"
   ]
  },
  {
   "cell_type": "code",
   "execution_count": 1,
   "metadata": {},
   "outputs": [],
   "source": [
    "a = {\n",
    " 'x' : 1,\n",
    " 'y' : 2,\n",
    " 'z' : 3\n",
    "}\n",
    "\n",
    "b = {\n",
    " 'w' : 10,\n",
    " 'x' : 11,\n",
    " 'y' : 2\n",
    "}"
   ]
  },
  {
   "cell_type": "markdown",
   "metadata": {},
   "source": [
    "To find out what the two dictionaries have in common, simply perform common set\n",
    "operations using the `keys()` or `items()` methods. \n",
    "\n",
    "For example:"
   ]
  },
  {
   "cell_type": "code",
   "execution_count": 3,
   "metadata": {},
   "outputs": [
    {
     "data": {
      "text/plain": [
       "{'x', 'y'}"
      ]
     },
     "execution_count": 3,
     "metadata": {},
     "output_type": "execute_result"
    }
   ],
   "source": [
    "# Find keys in common\n",
    "a.keys() & b.keys() # { 'x', 'y' }"
   ]
  },
  {
   "cell_type": "code",
   "execution_count": 4,
   "metadata": {},
   "outputs": [
    {
     "data": {
      "text/plain": [
       "{'z'}"
      ]
     },
     "execution_count": 4,
     "metadata": {},
     "output_type": "execute_result"
    }
   ],
   "source": [
    "# Find keys in a that are not in b\n",
    "a.keys() - b.keys() # { 'z' }"
   ]
  },
  {
   "cell_type": "code",
   "execution_count": 5,
   "metadata": {},
   "outputs": [
    {
     "data": {
      "text/plain": [
       "{('y', 2)}"
      ]
     },
     "execution_count": 5,
     "metadata": {},
     "output_type": "execute_result"
    }
   ],
   "source": [
    "# Find (key,value) pairs in common\n",
    "a.items() & b.items() # { ('y', 2) }"
   ]
  },
  {
   "cell_type": "markdown",
   "metadata": {},
   "source": [
    "These kinds of operations can also be used to alter or filter dictionary contents. \n",
    "\n",
    "For example, suppose you want to make a new dictionary with selected keys removed. \n",
    "\n",
    "Here is some sample code using a dictionary comprehension:"
   ]
  },
  {
   "cell_type": "code",
   "execution_count": 8,
   "metadata": {},
   "outputs": [
    {
     "data": {
      "text/plain": [
       "{'x': 1, 'y': 2}"
      ]
     },
     "execution_count": 8,
     "metadata": {},
     "output_type": "execute_result"
    }
   ],
   "source": [
    "# Make a new dictionary with certain keys removed\n",
    "c = {key:a[key] for key in a.keys() - {'z', 'w'}}\n",
    "# c is {'x': 1, 'y': 2}\n",
    "c"
   ]
  },
  {
   "cell_type": "markdown",
   "metadata": {},
   "source": [
    "### Discussion\n",
    "\n",
    "A dictionary is a mapping between a set of keys and values. The `keys()` method of a\n",
    "dictionary returns a keys-view object that exposes the keys. A little-known feature of\n",
    "keys views is that they also support common set operations such as `unions`, `intersections`,\n",
    "and `differences`. \n",
    "\n",
    "Thus, if you need to perform common set operations with dictionary keys, you can often \n",
    "just use the keys-view objects directly without first converting them into a set.\n",
    "\n",
    "The `items()` method of a dictionary returns an items-view object consisting of (key,\n",
    "value) pairs. This object supports similar set operations and can be used to perform\n",
    "operations such as finding out which key-value pairs two dictionaries have in common.\n",
    "Although similar, the values() method of a dictionary does not support the set oper‐\n",
    "ations described in this recipe. In part, this is due to the fact that unlike keys, the items\n",
    "contained in a values view aren’t guaranteed to be unique. This alone makes certain set\n",
    "operations of questionable utility. However, if you must perform such calculations, they\n",
    "can be accomplished by simply converting the values to a set first."
   ]
  },
  {
   "cell_type": "markdown",
   "metadata": {},
   "source": [
    "## 1.10. Removing Duplicates from a Sequence while Maintaining Order\n",
    "\n",
    "### Problem\n",
    "\n",
    "You want to eliminate the duplicate values in a sequence, but preserve the order of the\n",
    "remaining items.\n",
    "\n",
    "### Solution\n",
    "\n",
    "If the values in the sequence are hashable, the problem can be easily solved using a set\n",
    "and a generator. \n",
    "\n",
    "For example:"
   ]
  },
  {
   "cell_type": "code",
   "execution_count": 10,
   "metadata": {},
   "outputs": [],
   "source": [
    "def dedupe(items):\n",
    " seen = set()\n",
    " for item in items:\n",
    "     if item not in seen:\n",
    "         yield item\n",
    "         seen.add(item)"
   ]
  },
  {
   "cell_type": "markdown",
   "metadata": {},
   "source": [
    "Here is an example of how to use your function:"
   ]
  },
  {
   "cell_type": "code",
   "execution_count": 12,
   "metadata": {},
   "outputs": [
    {
     "data": {
      "text/plain": [
       "[1, 5, 2, 9, 10]"
      ]
     },
     "execution_count": 12,
     "metadata": {},
     "output_type": "execute_result"
    }
   ],
   "source": [
    ">>> a = [1, 5, 2, 1, 9, 1, 5, 10]\n",
    ">>> list(dedupe(a))"
   ]
  },
  {
   "cell_type": "markdown",
   "metadata": {},
   "source": [
    "This only works if the items in the sequence are hashable. If you are trying to eliminate\n",
    "duplicates in a sequence of unhashable types (such as dicts), you can make a slight\n",
    "change to this recipe, as follows:"
   ]
  },
  {
   "cell_type": "code",
   "execution_count": 13,
   "metadata": {},
   "outputs": [],
   "source": [
    "def dedupe(items, key=None):\n",
    " seen = set()\n",
    " for item in items:\n",
    "     val = item if key is None else key(item)\n",
    "     if val not in seen:\n",
    "         yield item\n",
    "         seen.add(val)"
   ]
  },
  {
   "cell_type": "markdown",
   "metadata": {},
   "source": [
    "Here, the purpose of the key argument is to specify a function that converts sequence\n",
    "items into a hashable type for the purposes of duplicate detection. \n",
    "\n",
    "Here’s how it works:"
   ]
  },
  {
   "cell_type": "code",
   "execution_count": 15,
   "metadata": {},
   "outputs": [
    {
     "data": {
      "text/plain": [
       "[{'x': 1, 'y': 2}, {'x': 1, 'y': 3}, {'x': 2, 'y': 4}]"
      ]
     },
     "execution_count": 15,
     "metadata": {},
     "output_type": "execute_result"
    }
   ],
   "source": [
    ">>> a = [ {'x':1, 'y':2}, {'x':1, 'y':3}, {'x':1, 'y':2}, {'x':2, 'y':4}]\n",
    ">>> list(dedupe(a, key=lambda d: (d['x'],d['y'])))"
   ]
  },
  {
   "cell_type": "code",
   "execution_count": 16,
   "metadata": {},
   "outputs": [
    {
     "data": {
      "text/plain": [
       "[{'x': 1, 'y': 2}, {'x': 2, 'y': 4}]"
      ]
     },
     "execution_count": 16,
     "metadata": {},
     "output_type": "execute_result"
    }
   ],
   "source": [
    ">>> list(dedupe(a, key=lambda d: d['x']))"
   ]
  },
  {
   "cell_type": "markdown",
   "metadata": {},
   "source": [
    "This latter solution also works nicely if you want to eliminate duplicates based on the\n",
    "value of a single field or attribute or a larger data structure.\n",
    "\n",
    "### Discussion\n",
    "\n",
    "If all you want to do is eliminate duplicates, it is often easy enough to make a set. \n",
    "\n",
    "For example:"
   ]
  },
  {
   "cell_type": "code",
   "execution_count": 19,
   "metadata": {},
   "outputs": [
    {
     "data": {
      "text/plain": [
       "{1, 2, 5, 9, 10}"
      ]
     },
     "execution_count": 19,
     "metadata": {},
     "output_type": "execute_result"
    }
   ],
   "source": [
    ">>> a =  [1, 5, 2, 1, 9, 1, 5, 10]\n",
    ">>> set(a)"
   ]
  },
  {
   "cell_type": "markdown",
   "metadata": {},
   "source": [
    "However, this approach doesn’t preserve any kind of ordering. So, the resulting data will\n",
    "be scrambled afterward. The solution shown avoids this.\n",
    "\n",
    "The use of a generator function in this recipe reflects the fact that you might want the\n",
    "function to be extremely general purpose—not necessarily tied directly to list process‐\n",
    "ing. \n",
    "\n",
    "For example, if you want to read a file, eliminating duplicate lines, you could simply\n",
    "do this:\n",
    "\n",
    "```python\n",
    "with open(somefile,'r') as f:\n",
    " for line in dedupe(f):\n",
    "     ...\n",
    "```\n",
    "\n",
    "The specification of a key function mimics similar functionality in built-in functions\n",
    "such as `sorted()`, `min()`, and `max()`. For instance, see Recipes 1.8 and 1.13."
   ]
  },
  {
   "cell_type": "code",
   "execution_count": null,
   "metadata": {},
   "outputs": [],
   "source": []
  }
 ],
 "metadata": {
  "kernelspec": {
   "display_name": "Python 3",
   "language": "python",
   "name": "python3"
  },
  "language_info": {
   "codemirror_mode": {
    "name": "ipython",
    "version": 3
   },
   "file_extension": ".py",
   "mimetype": "text/x-python",
   "name": "python",
   "nbconvert_exporter": "python",
   "pygments_lexer": "ipython3",
   "version": "3.7.1"
  },
  "toc": {
   "base_numbering": 1,
   "nav_menu": {
    "height": "573px",
    "width": "511px"
   },
   "number_sections": true,
   "sideBar": true,
   "skip_h1_title": false,
   "title_cell": "Table of Contents",
   "title_sidebar": "Contents",
   "toc_cell": false,
   "toc_position": {
    "height": "calc(100% - 180px)",
    "left": "10px",
    "top": "150px",
    "width": "300.2px"
   },
   "toc_section_display": true,
   "toc_window_display": true
  }
 },
 "nbformat": 4,
 "nbformat_minor": 2
}
