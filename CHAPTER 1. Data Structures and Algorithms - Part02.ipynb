{
 "cells": [
  {
   "cell_type": "markdown",
   "metadata": {},
   "source": [
    "# CHAPTER 1. Data Structures and Algorithms - Part02\n",
    "\n",
    "Python provides a variety of useful built-in data structures, such as lists, sets, and dictionaries.\n",
    "For the most part, the use of these structures is straightforward. However,\n",
    "common questions concerning searching, sorting, ordering, and filtering often arise.\n",
    "Thus, the goal of this chapter is to discuss common data structures and algorithms\n",
    "involving data. In addition, treatment is given to the various data structures contained\n",
    "in the collections module."
   ]
  },
  {
   "cell_type": "markdown",
   "metadata": {},
   "source": [
    "## 1.11. Naming a Slice\n",
    "\n",
    "### Problem\n",
    "\n",
    "Your program has become an unreadable mess of hardcoded slice indices and you want\n",
    "to clean it up.\n",
    "\n",
    "### Solution\n",
    "\n",
    "Suppose you have some code that is pulling specific data fields out of a record string\n",
    "with fixed fields (e.g., from a flat file or similar format):\n",
    "\n",
    "```python\n",
    "###### 0123456789012345678901234567890123456789012345678901234567890'\n",
    "record = '....................100 .......513.25 ..........'\n",
    "cost = int(record[20:32]) * float(record[40:48])\n",
    "```\n",
    "Instead of doing that, why not name the slices like this?\n",
    "\n",
    "```python\n",
    "SHARES = slice(20,32)\n",
    "PRICE = slice(40,48)\n",
    "cost = int(record[SHARES]) * float(record[PRICE])\n",
    "```"
   ]
  },
  {
   "cell_type": "markdown",
   "metadata": {},
   "source": [
    "In the latter version, you avoid having a lot of mysterious hardcoded indices, and what\n",
    "you’re doing becomes much clearer.\n",
    "\n",
    "### Discussion\n",
    "\n",
    "As a general rule, writing code with a lot of hardcoded index values leads to a readability\n",
    "and maintenance mess. \n",
    "\n",
    "For example, if you come back to the code a year later, you’ll\n",
    "look at it and wonder what you were thinking when you wrote it. The solution shown\n",
    "is simply a way of more clearly stating what your code is actually doing.\n",
    "\n",
    "In general, the built-in `slice()` creates a slice object that can be used anywhere a slice\n",
    "is allowed. \n",
    "\n",
    "For example:"
   ]
  },
  {
   "cell_type": "code",
   "execution_count": 24,
   "metadata": {},
   "outputs": [
    {
     "data": {
      "text/plain": [
       "[2, 3]"
      ]
     },
     "execution_count": 24,
     "metadata": {},
     "output_type": "execute_result"
    }
   ],
   "source": [
    ">>> items = [0, 1, 2, 3, 4, 5, 6]\n",
    ">>> a = slice(2, 4)\n",
    ">>> items[2:4]"
   ]
  },
  {
   "cell_type": "code",
   "execution_count": 25,
   "metadata": {},
   "outputs": [
    {
     "data": {
      "text/plain": [
       "[2, 3]"
      ]
     },
     "execution_count": 25,
     "metadata": {},
     "output_type": "execute_result"
    }
   ],
   "source": [
    ">>> items[a]"
   ]
  },
  {
   "cell_type": "code",
   "execution_count": 26,
   "metadata": {},
   "outputs": [],
   "source": [
    ">>> items[a] = [10,11]"
   ]
  },
  {
   "cell_type": "code",
   "execution_count": 27,
   "metadata": {},
   "outputs": [
    {
     "data": {
      "text/plain": [
       "[0, 1, 10, 11, 4, 5, 6]"
      ]
     },
     "execution_count": 27,
     "metadata": {},
     "output_type": "execute_result"
    }
   ],
   "source": [
    ">>> items"
   ]
  },
  {
   "cell_type": "code",
   "execution_count": 28,
   "metadata": {},
   "outputs": [
    {
     "data": {
      "text/plain": [
       "[0, 1, 4, 5, 6]"
      ]
     },
     "execution_count": 28,
     "metadata": {},
     "output_type": "execute_result"
    }
   ],
   "source": [
    ">>> del items[a]\n",
    ">>> items"
   ]
  },
  {
   "cell_type": "markdown",
   "metadata": {},
   "source": [
    "If you have a slice instance s, you can get more information about it by looking at its\n",
    "`s.start`, `s.stop`, and `s.step` attributes, respectively. \n",
    "\n",
    "For example:"
   ]
  },
  {
   "cell_type": "code",
   "execution_count": 29,
   "metadata": {},
   "outputs": [
    {
     "data": {
      "text/plain": [
       "10"
      ]
     },
     "execution_count": 29,
     "metadata": {},
     "output_type": "execute_result"
    }
   ],
   "source": [
    ">>> a = slice(10, 50, 2)\n",
    ">>> a.start"
   ]
  },
  {
   "cell_type": "code",
   "execution_count": 30,
   "metadata": {},
   "outputs": [
    {
     "data": {
      "text/plain": [
       "50"
      ]
     },
     "execution_count": 30,
     "metadata": {},
     "output_type": "execute_result"
    }
   ],
   "source": [
    "10\n",
    ">>> a.stop"
   ]
  },
  {
   "cell_type": "code",
   "execution_count": 31,
   "metadata": {},
   "outputs": [
    {
     "data": {
      "text/plain": [
       "2"
      ]
     },
     "execution_count": 31,
     "metadata": {},
     "output_type": "execute_result"
    }
   ],
   "source": [
    "50\n",
    ">>> a.step"
   ]
  },
  {
   "cell_type": "markdown",
   "metadata": {},
   "source": [
    "In addition, you can map a slice onto a sequence of a specific size by using its \n",
    "`indices(size)` method. This returns a `tuple (start, stop, step)` where all values have\n",
    "been suitably limited to fit within bounds (as to avoid IndexError exceptions when\n",
    "indexing). \n",
    "\n",
    "For example:"
   ]
  },
  {
   "cell_type": "markdown",
   "metadata": {},
   "source": [
    "#### 这个地方与书上结果不符"
   ]
  },
  {
   "cell_type": "code",
   "execution_count": 35,
   "metadata": {},
   "outputs": [
    {
     "data": {
      "text/plain": [
       "(10, 10, 2)"
      ]
     },
     "execution_count": 35,
     "metadata": {},
     "output_type": "execute_result"
    }
   ],
   "source": [
    ">>> s = 'HelloWorld'\n",
    ">>> a.indices(len(s))"
   ]
  },
  {
   "cell_type": "code",
   "execution_count": 37,
   "metadata": {},
   "outputs": [],
   "source": [
    "(5, 10, 2)\n",
    ">>> for i in range(*a.indices(len(s))):\n",
    "...     print(s[i])"
   ]
  },
  {
   "cell_type": "code",
   "execution_count": 33,
   "metadata": {},
   "outputs": [
    {
     "ename": "NameError",
     "evalue": "name 'W' is not defined",
     "output_type": "error",
     "traceback": [
      "\u001b[0;31m---------------------------------------------------------------------------\u001b[0m",
      "\u001b[0;31mNameError\u001b[0m                                 Traceback (most recent call last)",
      "\u001b[0;32m<ipython-input-33-354dd007a1e2>\u001b[0m in \u001b[0;36m<module>\u001b[0;34m()\u001b[0m\n\u001b[1;32m      3\u001b[0m     \u001b[0mprint\u001b[0m\u001b[0;34m(\u001b[0m\u001b[0ms\u001b[0m\u001b[0;34m[\u001b[0m\u001b[0mi\u001b[0m\u001b[0;34m]\u001b[0m\u001b[0;34m)\u001b[0m\u001b[0;34m\u001b[0m\u001b[0m\n\u001b[1;32m      4\u001b[0m \u001b[0;34m\u001b[0m\u001b[0m\n\u001b[0;32m----> 5\u001b[0;31m \u001b[0mW\u001b[0m\u001b[0;34m\u001b[0m\u001b[0m\n\u001b[0m\u001b[1;32m      6\u001b[0m \u001b[0mr\u001b[0m\u001b[0;34m\u001b[0m\u001b[0m\n\u001b[1;32m      7\u001b[0m \u001b[0md\u001b[0m\u001b[0;34m\u001b[0m\u001b[0m\n",
      "\u001b[0;31mNameError\u001b[0m: name 'W' is not defined"
     ]
    }
   ],
   "source": [
    "...\n",
    "W\n",
    "r\n",
    "d\n",
    ">>>"
   ]
  },
  {
   "cell_type": "markdown",
   "metadata": {},
   "source": [
    "## 1.12. `collections.Counter`: Determining the Most Frequently Occurring Items in a Sequence\n",
    "\n",
    "### Problem\n",
    "\n",
    "You have a sequence of items, and you’d like to determine the `most frequently occurring\n",
    "items` in the sequence.\n",
    "\n",
    "### Solution\n",
    "\n",
    "The `collections.Counter` class is designed for just such a problem. It even comes with\n",
    "a handy `most_common()` method that will give you the answer.\n",
    "\n",
    "To illustrate, let’s say you have a list of words and you want to find out which words\n",
    "occur most often. Here’s how you would do it:"
   ]
  },
  {
   "cell_type": "code",
   "execution_count": 11,
   "metadata": {},
   "outputs": [
    {
     "name": "stdout",
     "output_type": "stream",
     "text": [
      "[('eyes', 8), ('the', 5), ('look', 4)]\n"
     ]
    }
   ],
   "source": [
    "words = [\n",
    "'look', 'into', 'my', 'eyes', 'look', 'into', 'my', 'eyes',\n",
    "'the', 'eyes', 'the', 'eyes', 'the', 'eyes', 'not', 'around', 'the',\n",
    "'eyes', \"don't\", 'look', 'around', 'the', 'eyes', 'look', 'into',\n",
    "'my', 'eyes', \"you're\", 'under'\n",
    "]\n",
    "\n",
    "from collections import Counter\n",
    "\n",
    "word_counts = Counter(words)\n",
    "top_three = word_counts.most_common(3)\n",
    "print(top_three)\n",
    "# Outputs [('eyes', 8), ('the', 5), ('look', 4)]"
   ]
  },
  {
   "cell_type": "markdown",
   "metadata": {},
   "source": [
    "### Discussion\n",
    "\n",
    "As input, `Counter` objects can be fed any sequence of hashable input items. Under the\n",
    "covers, a Counter is a dictionary that maps the items to the number of occurrences. \n",
    "\n",
    "For example:"
   ]
  },
  {
   "cell_type": "code",
   "execution_count": 13,
   "metadata": {},
   "outputs": [
    {
     "data": {
      "text/plain": [
       "1"
      ]
     },
     "execution_count": 13,
     "metadata": {},
     "output_type": "execute_result"
    }
   ],
   "source": [
    ">>> word_counts['not']"
   ]
  },
  {
   "cell_type": "code",
   "execution_count": 14,
   "metadata": {},
   "outputs": [
    {
     "data": {
      "text/plain": [
       "8"
      ]
     },
     "execution_count": 14,
     "metadata": {},
     "output_type": "execute_result"
    }
   ],
   "source": [
    "1\n",
    ">>> word_counts['eyes']\n",
    "8\n",
    ">>>"
   ]
  },
  {
   "cell_type": "markdown",
   "metadata": {},
   "source": [
    "If you want to increment the count manually, simply use addition:"
   ]
  },
  {
   "cell_type": "code",
   "execution_count": 17,
   "metadata": {},
   "outputs": [
    {
     "data": {
      "text/plain": [
       "9"
      ]
     },
     "execution_count": 17,
     "metadata": {},
     "output_type": "execute_result"
    }
   ],
   "source": [
    ">>> morewords = ['why','are','you','not','looking','in','my','eyes']\n",
    ">>> for word in morewords:\n",
    "...     word_counts[word] += 1\n",
    "...\n",
    ">>> word_counts['eyes']\n",
    "9\n",
    ">>>"
   ]
  },
  {
   "cell_type": "markdown",
   "metadata": {},
   "source": [
    "Or, alternatively, you could use the `update()` method:"
   ]
  },
  {
   "cell_type": "raw",
   "metadata": {},
   "source": [
    ">>> word_counts.update(morewords)\n",
    ">>>"
   ]
  },
  {
   "cell_type": "markdown",
   "metadata": {},
   "source": [
    "A little-known feature of Counter instances is that they can be easily combined using\n",
    "various mathematical operations. \n",
    "\n",
    "For example:"
   ]
  },
  {
   "cell_type": "code",
   "execution_count": 18,
   "metadata": {},
   "outputs": [
    {
     "data": {
      "text/plain": [
       "Counter({'look': 4,\n",
       "         'into': 3,\n",
       "         'my': 3,\n",
       "         'eyes': 8,\n",
       "         'the': 5,\n",
       "         'not': 1,\n",
       "         'around': 2,\n",
       "         \"don't\": 1,\n",
       "         \"you're\": 1,\n",
       "         'under': 1})"
      ]
     },
     "execution_count": 18,
     "metadata": {},
     "output_type": "execute_result"
    }
   ],
   "source": [
    ">>> a = Counter(words)\n",
    ">>> b = Counter(morewords)\n",
    ">>> a"
   ]
  },
  {
   "cell_type": "markdown",
   "metadata": {},
   "source": [
    "```python\n",
    "Counter({'eyes': 8, 'the': 5, 'look': 4, 'into': 3, 'my': 3, 'around': 2,\n",
    "\"you're\": 1, \"don't\": 1, 'under': 1, 'not': 1})\n",
    "```"
   ]
  },
  {
   "cell_type": "code",
   "execution_count": 21,
   "metadata": {},
   "outputs": [
    {
     "data": {
      "text/plain": [
       "Counter({'why': 1,\n",
       "         'are': 1,\n",
       "         'you': 1,\n",
       "         'not': 1,\n",
       "         'looking': 1,\n",
       "         'in': 1,\n",
       "         'my': 1,\n",
       "         'eyes': 1})"
      ]
     },
     "execution_count": 21,
     "metadata": {},
     "output_type": "execute_result"
    }
   ],
   "source": [
    ">>> b"
   ]
  },
  {
   "cell_type": "markdown",
   "metadata": {},
   "source": [
    "```\n",
    "Counter({'eyes': 1, 'looking': 1, 'are': 1, 'in': 1, 'not': 1, 'you': 1,\n",
    "'my': 1, 'why': 1})\n",
    "```"
   ]
  },
  {
   "cell_type": "code",
   "execution_count": 22,
   "metadata": {},
   "outputs": [
    {
     "data": {
      "text/plain": [
       "Counter({'look': 4,\n",
       "         'into': 3,\n",
       "         'my': 4,\n",
       "         'eyes': 9,\n",
       "         'the': 5,\n",
       "         'not': 2,\n",
       "         'around': 2,\n",
       "         \"don't\": 1,\n",
       "         \"you're\": 1,\n",
       "         'under': 1,\n",
       "         'why': 1,\n",
       "         'are': 1,\n",
       "         'you': 1,\n",
       "         'looking': 1,\n",
       "         'in': 1})"
      ]
     },
     "execution_count": 22,
     "metadata": {},
     "output_type": "execute_result"
    }
   ],
   "source": [
    ">>> # Combine counts\n",
    ">>> c = a + b\n",
    ">>> c"
   ]
  },
  {
   "cell_type": "markdown",
   "metadata": {},
   "source": [
    "```\n",
    "Counter({'eyes': 9, 'the': 5, 'look': 4, 'my': 4, 'into': 3, 'not': 2,\n",
    "'around': 2, \"you're\": 1, \"don't\": 1, 'in': 1, 'why': 1,\n",
    "'looking': 1, 'are': 1, 'under': 1, 'you': 1})\n",
    "```"
   ]
  },
  {
   "cell_type": "code",
   "execution_count": 23,
   "metadata": {},
   "outputs": [
    {
     "data": {
      "text/plain": [
       "Counter({'look': 4,\n",
       "         'into': 3,\n",
       "         'my': 2,\n",
       "         'eyes': 7,\n",
       "         'the': 5,\n",
       "         'around': 2,\n",
       "         \"don't\": 1,\n",
       "         \"you're\": 1,\n",
       "         'under': 1})"
      ]
     },
     "execution_count": 23,
     "metadata": {},
     "output_type": "execute_result"
    }
   ],
   "source": [
    ">>> # Subtract counts\n",
    ">>> d = a - b\n",
    ">>> d"
   ]
  },
  {
   "cell_type": "markdown",
   "metadata": {},
   "source": [
    "```\n",
    "Counter({'eyes': 7, 'the': 5, 'look': 4, 'into': 3, 'my': 2, 'around': 2,\n",
    "\"you're\": 1, \"don't\": 1, 'under': 1})\n",
    "```"
   ]
  },
  {
   "cell_type": "markdown",
   "metadata": {},
   "source": [
    "`Needless to say`, `Counter` objects are a tremendously useful tool for almost any kind of\n",
    "problem where you need to tabulate and count data. You should prefer this over manually\n",
    "written solutions involving dictionaries."
   ]
  },
  {
   "cell_type": "markdown",
   "metadata": {},
   "source": [
    "## 1.13. `operator.itemgetter()`: Sorting a List of Dictionaries by a Common Key\n",
    "\n",
    "### Problem\n",
    "\n",
    "You have a list of dictionaries and you would like to sort the entries according to one\n",
    "or more of the dictionary values.\n",
    "\n",
    "### Solution\n",
    "\n",
    "Sorting this type of structure is easy using the operator module's `itemgetter` function.\n",
    "Let’s say you’ve queried a database table to get a listing of the members on your website,\n",
    "and you receive the following data structure in return:"
   ]
  },
  {
   "cell_type": "code",
   "execution_count": 2,
   "metadata": {},
   "outputs": [],
   "source": [
    "rows = [\n",
    "{'fname': 'Brian', 'lname': 'Jones', 'uid': 1003},\n",
    "{'fname': 'David', 'lname': 'Beazley', 'uid': 1002},\n",
    "{'fname': 'John', 'lname': 'Cleese', 'uid': 1001},\n",
    "{'fname': 'Big', 'lname': 'Jones', 'uid': 1004}\n",
    "]"
   ]
  },
  {
   "cell_type": "markdown",
   "metadata": {},
   "source": [
    "It’s fairly easy to output these rows ordered by any of the fields common to all of the\n",
    "dictionaries. \n",
    "\n",
    "For example:"
   ]
  },
  {
   "cell_type": "code",
   "execution_count": 3,
   "metadata": {},
   "outputs": [
    {
     "name": "stdout",
     "output_type": "stream",
     "text": [
      "[{'fname': 'Big', 'lname': 'Jones', 'uid': 1004}, {'fname': 'Brian', 'lname': 'Jones', 'uid': 1003}, {'fname': 'David', 'lname': 'Beazley', 'uid': 1002}, {'fname': 'John', 'lname': 'Cleese', 'uid': 1001}]\n",
      "[{'fname': 'John', 'lname': 'Cleese', 'uid': 1001}, {'fname': 'David', 'lname': 'Beazley', 'uid': 1002}, {'fname': 'Brian', 'lname': 'Jones', 'uid': 1003}, {'fname': 'Big', 'lname': 'Jones', 'uid': 1004}]\n"
     ]
    }
   ],
   "source": [
    "from operator import itemgetter\n",
    "\n",
    "rows_by_fname = sorted(rows, key=itemgetter('fname'))\n",
    "rows_by_uid = sorted(rows, key=itemgetter('uid'))\n",
    "print(rows_by_fname)\n",
    "print(rows_by_uid)"
   ]
  },
  {
   "cell_type": "markdown",
   "metadata": {},
   "source": [
    "The preceding code would output the following:\n",
    "\n",
    "```python\n",
    "[{'fname': 'Big', 'uid': 1004, 'lname': 'Jones'},\n",
    "{'fname': 'Brian', 'uid': 1003, 'lname': 'Jones'},\n",
    "{'fname': 'David', 'uid': 1002, 'lname': 'Beazley'},\n",
    "{'fname': 'John', 'uid': 1001, 'lname': 'Cleese'}]\n",
    "[{'fname': 'John', 'uid': 1001, 'lname': 'Cleese'},\n",
    "{'fname': 'David', 'uid': 1002, 'lname': 'Beazley'},\n",
    "{'fname': 'Brian', 'uid': 1003, 'lname': 'Jones'},\n",
    "{'fname': 'Big', 'uid': 1004, 'lname': 'Jones'}]\n",
    "```"
   ]
  },
  {
   "cell_type": "markdown",
   "metadata": {},
   "source": [
    "The `itemgetter()` function can also accept multiple keys. \n",
    "\n",
    "For example, this code"
   ]
  },
  {
   "cell_type": "code",
   "execution_count": 5,
   "metadata": {},
   "outputs": [
    {
     "name": "stdout",
     "output_type": "stream",
     "text": [
      "[{'fname': 'David', 'lname': 'Beazley', 'uid': 1002}, {'fname': 'John', 'lname': 'Cleese', 'uid': 1001}, {'fname': 'Big', 'lname': 'Jones', 'uid': 1004}, {'fname': 'Brian', 'lname': 'Jones', 'uid': 1003}]\n"
     ]
    }
   ],
   "source": [
    "rows_by_lfname = sorted(rows, key=itemgetter('lname','fname'))\n",
    "\n",
    "print(rows_by_lfname)"
   ]
  },
  {
   "cell_type": "markdown",
   "metadata": {},
   "source": [
    "Produces output like this:\n",
    "\n",
    "```python\n",
    "[{'fname': 'David', 'uid': 1002, 'lname': 'Beazley'},\n",
    "{'fname': 'John', 'uid': 1001, 'lname': 'Cleese'},\n",
    "{'fname': 'Big', 'uid': 1004, 'lname': 'Jones'},\n",
    "{'fname': 'Brian', 'uid': 1003, 'lname': 'Jones'}]\n",
    "```\n",
    "\n",
    "### Discussion\n",
    "\n",
    "In this example, rows is passed to the built-in `sorted()` function, which accepts a keyword\n",
    "argument key. This argument is expected to be a callable that accepts a single item \n",
    "from rows as input and returns a value that will be used as the basis for sorting. The `itemgetter()` function creates just such a callable.\n",
    "\n",
    "The `operator.itemgetter()` function takes as arguments the lookup indices used to\n",
    "extract the desired values from the records in rows. It can be a dictionary key name, a\n",
    "numeric list element, or any value that can be fed to an object’s `__getitem__()` method.\n",
    "\n",
    "If you give multiple indices to `itemgetter()`, the callable it produces will return a tuple\n",
    "with all of the elements in it, and `sorted()` will order the output according to the sorted\n",
    "order of the tuples. This can be useful if you want to simultaneously sort on multiple\n",
    "fields (such as last and first name, as shown in the example).\n",
    "\n",
    "The functionality of `itemgetter()` is sometimes replaced by `lambda expressions`. \n",
    "\n",
    "For example:"
   ]
  },
  {
   "cell_type": "code",
   "execution_count": 6,
   "metadata": {},
   "outputs": [],
   "source": [
    "rows_by_fname = sorted(rows, key=lambda r: r['fname'])\n",
    "rows_by_lfname = sorted(rows, key=lambda r: (r['lname'],r['fname']))"
   ]
  },
  {
   "cell_type": "markdown",
   "metadata": {},
   "source": [
    "This solution often works just fine. However, the solution involving `itemgetter()`\n",
    "typically runs a bit faster. Thus, **you might prefer it if performance is a concern.**\n",
    "\n",
    "**Last, but not least**, don’t forget that the technique shown in this recipe can be applied\n",
    "to functions such as `min()` and `max()`. \n",
    "\n",
    "For example:"
   ]
  },
  {
   "cell_type": "code",
   "execution_count": 8,
   "metadata": {},
   "outputs": [
    {
     "data": {
      "text/plain": [
       "{'fname': 'John', 'lname': 'Cleese', 'uid': 1001}"
      ]
     },
     "execution_count": 8,
     "metadata": {},
     "output_type": "execute_result"
    }
   ],
   "source": [
    ">>> min(rows, key=itemgetter('uid'))"
   ]
  },
  {
   "cell_type": "code",
   "execution_count": 9,
   "metadata": {},
   "outputs": [
    {
     "data": {
      "text/plain": [
       "{'fname': 'Big', 'lname': 'Jones', 'uid': 1004}"
      ]
     },
     "execution_count": 9,
     "metadata": {},
     "output_type": "execute_result"
    }
   ],
   "source": [
    "{'fname': 'John', 'lname': 'Cleese', 'uid': 1001}\n",
    ">>> max(rows, key=itemgetter('uid'))"
   ]
  },
  {
   "cell_type": "code",
   "execution_count": 10,
   "metadata": {},
   "outputs": [
    {
     "data": {
      "text/plain": [
       "{'fname': 'Big', 'lname': 'Jones', 'uid': 1004}"
      ]
     },
     "execution_count": 10,
     "metadata": {},
     "output_type": "execute_result"
    }
   ],
   "source": [
    "{'fname': 'Big', 'lname': 'Jones', 'uid': 1004}"
   ]
  },
  {
   "cell_type": "markdown",
   "metadata": {},
   "source": [
    "## 1.14. Sorting Objects Without Native Comparison Support\n",
    "\n",
    "### Problem\n",
    "\n",
    "You want to sort objects of the same class, but they don’t natively support comparison\n",
    "operations.\n",
    "\n",
    "### Solution\n",
    "\n",
    "The built-in sorted() function takes a key argument that can be passed a callable that\n",
    "will return some value in the object that sorted will use to compare the objects. For\n",
    "example, if you have a sequence of User instances in your application, and you want to\n",
    "sort them by their user_id attribute, you would supply a callable that takes a User\n",
    "instance as input and returns the user_id. For example:"
   ]
  },
  {
   "cell_type": "code",
   "execution_count": 33,
   "metadata": {},
   "outputs": [],
   "source": [
    ">>> class User:\n",
    "...     def __init__(self, user_id):\n",
    "...         self.user_id = user_id\n",
    "...\n",
    "...     def __repr__(self):\n",
    "...         return 'User({})'.format(self.user_id)"
   ]
  },
  {
   "cell_type": "code",
   "execution_count": 34,
   "metadata": {},
   "outputs": [
    {
     "name": "stdout",
     "output_type": "stream",
     "text": [
      "[User(23), User(3), User(99)]\n"
     ]
    }
   ],
   "source": [
    ">>> users = [User(23), User(3), User(99)]\n",
    ">>> print(users)"
   ]
  },
  {
   "cell_type": "code",
   "execution_count": 35,
   "metadata": {},
   "outputs": [
    {
     "data": {
      "text/plain": [
       "[User(3), User(23), User(99)]"
      ]
     },
     "execution_count": 35,
     "metadata": {},
     "output_type": "execute_result"
    }
   ],
   "source": [
    "## [User(23), User(3), User(99)]\n",
    ">>> sorted(users, key=lambda u: u.user_id)\n",
    "## [User(3), User(23), User(99)]"
   ]
  },
  {
   "cell_type": "markdown",
   "metadata": {},
   "source": [
    "Instead of using lambda, an alternative approach is to use operator.attrgetter():"
   ]
  },
  {
   "cell_type": "code",
   "execution_count": 38,
   "metadata": {},
   "outputs": [
    {
     "data": {
      "text/plain": [
       "[User(3), User(23), User(99)]"
      ]
     },
     "execution_count": 38,
     "metadata": {},
     "output_type": "execute_result"
    }
   ],
   "source": [
    ">>> from operator import attrgetter\n",
    ">>> sorted(users, key=attrgetter('user_id'))\n",
    "# [User(3), User(23), User(99)]"
   ]
  },
  {
   "cell_type": "markdown",
   "metadata": {},
   "source": [
    "### Discussion\n",
    "\n",
    "The choice of whether or not to use lambda or attrgetter() may be one of personal\n",
    "preference. However, attrgetter() is often a tad bit faster and also has the added\n",
    "feature of allowing multiple fields to be extracted simultaneously. This is analogous to\n",
    "the use of operator.itemgetter() for dictionaries (see Recipe 1.13). For example, if\n",
    "User instances also had a first_name and last_name attribute, you could perform a\n",
    "sort like this:\n",
    "\n",
    "```python\n",
    "by_name = sorted(users, key=attrgetter('last_name', 'first_name'))\n",
    "```\n",
    "\n",
    "It is also worth noting that the technique used in this recipe can be applied to functions\n",
    "such as min() and max(). For example:"
   ]
  },
  {
   "cell_type": "code",
   "execution_count": 45,
   "metadata": {},
   "outputs": [
    {
     "data": {
      "text/plain": [
       "User(3)"
      ]
     },
     "execution_count": 45,
     "metadata": {},
     "output_type": "execute_result"
    }
   ],
   "source": [
    ">>> min(users, key=attrgetter('user_id'))  # User(3)"
   ]
  },
  {
   "cell_type": "code",
   "execution_count": 46,
   "metadata": {},
   "outputs": [
    {
     "data": {
      "text/plain": [
       "User(99)"
      ]
     },
     "execution_count": 46,
     "metadata": {},
     "output_type": "execute_result"
    }
   ],
   "source": [
    ">>> max(users, key=attrgetter('user_id')) # User(99)"
   ]
  },
  {
   "cell_type": "markdown",
   "metadata": {},
   "source": [
    "## 1.15. Grouping Records Together Based on a Field\n",
    "\n",
    "### Problem\n",
    "\n",
    "You have a sequence of dictionaries or instances and you want to iterate over the data\n",
    "in groups based on the value of a particular field, such as date.\n",
    "\n",
    "### Solution\n",
    "\n",
    "The `itertools.groupby()` function is particularly useful for grouping data together\n",
    "like this. To illustrate, suppose you have the following list of dictionaries:"
   ]
  },
  {
   "cell_type": "code",
   "execution_count": 1,
   "metadata": {},
   "outputs": [],
   "source": [
    "rows = [\n",
    "{'address': '5412 N CLARK', 'date': '07/01/2012'},\n",
    "{'address': '5148 N CLARK', 'date': '07/04/2012'},\n",
    "{'address': '5800 E 58TH', 'date': '07/02/2012'},\n",
    "{'address': '2122 N CLARK', 'date': '07/03/2012'},\n",
    "{'address': '5645 N RAVENSWOOD', 'date': '07/02/2012'},\n",
    "{'address': '1060 W ADDISON', 'date': '07/02/2012'},\n",
    "{'address': '4801 N BROADWAY', 'date': '07/01/2012'},\n",
    "{'address': '1039 W GRANVILLE', 'date': '07/04/2012'},\n",
    "]"
   ]
  },
  {
   "cell_type": "markdown",
   "metadata": {},
   "source": [
    "Now suppose you want to iterate over the data in chunks grouped by date. To do it, first\n",
    "sort by the desired field (in this case, date) and then use itertools.groupby():"
   ]
  },
  {
   "cell_type": "code",
   "execution_count": 2,
   "metadata": {},
   "outputs": [
    {
     "name": "stdout",
     "output_type": "stream",
     "text": [
      "07/01/2012\n",
      "  {'address': '5412 N CLARK', 'date': '07/01/2012'}\n",
      "  {'address': '4801 N BROADWAY', 'date': '07/01/2012'}\n",
      "07/02/2012\n",
      "  {'address': '5800 E 58TH', 'date': '07/02/2012'}\n",
      "  {'address': '5645 N RAVENSWOOD', 'date': '07/02/2012'}\n",
      "  {'address': '1060 W ADDISON', 'date': '07/02/2012'}\n",
      "07/03/2012\n",
      "  {'address': '2122 N CLARK', 'date': '07/03/2012'}\n",
      "07/04/2012\n",
      "  {'address': '5148 N CLARK', 'date': '07/04/2012'}\n",
      "  {'address': '1039 W GRANVILLE', 'date': '07/04/2012'}\n"
     ]
    }
   ],
   "source": [
    "from operator import itemgetter\n",
    "from itertools import groupby\n",
    "\n",
    "# Sort by the desired field first\n",
    "rows.sort(key=itemgetter('date'))\n",
    "\n",
    "# Iterate in groups\n",
    "for date, items in groupby(rows, key=itemgetter('date')):\n",
    "    print(date)\n",
    "    for i in items:\n",
    "        print(' ', i)"
   ]
  },
  {
   "cell_type": "markdown",
   "metadata": {},
   "source": [
    "This produces the following output:\n",
    "```\n",
    "07/01/2012\n",
    "{'date': '07/01/2012', 'address': '5412 N CLARK'}\n",
    "{'date': '07/01/2012', 'address': '4801 N BROADWAY'}\n",
    "07/02/2012\n",
    "{'date': '07/02/2012', 'address': '5800 E 58TH'}\n",
    "{'date': '07/02/2012', 'address': '5645 N RAVENSWOOD'}\n",
    "{'date': '07/02/2012', 'address': '1060 W ADDISON'}\n",
    "07/03/2012\n",
    "{'date': '07/03/2012', 'address': '2122 N CLARK'}\n",
    "07/04/2012\n",
    "{'date': '07/04/2012', 'address': '5148 N CLARK'}\n",
    "{'date': '07/04/2012', 'address': '1039 W GRANVILLE'}\n",
    "```\n",
    "\n",
    "### Discussion\n",
    "\n",
    "The `groupby()` function works by scanning a sequence and finding sequential “runs”\n",
    "of identical values (or values returned by the given key function). On each iteration, it\n",
    "returns the value along with an iterator that produces all of the items in a group with\n",
    "the same value.\n",
    "\n",
    "An important preliminary step is sorting the data according to the field of interest. Since\n",
    "`groupby()` only examines consecutive items, failing to sort first won’t group the records\n",
    "as you want.\n",
    "\n",
    "If your goal is to simply group the data together by dates into a large data structure that\n",
    "allows random access, you may have better luck using `defaultdict()` to build a\n",
    "multidict, as described in Recipe 1.6. \n",
    "\n",
    "For example:"
   ]
  },
  {
   "cell_type": "code",
   "execution_count": 8,
   "metadata": {},
   "outputs": [
    {
     "name": "stdout",
     "output_type": "stream",
     "text": [
      "07/01/2012 {'address': '5412 N CLARK', 'date': '07/01/2012'}\n",
      "07/01/2012 {'address': '4801 N BROADWAY', 'date': '07/01/2012'}\n",
      "07/02/2012 {'address': '5800 E 58TH', 'date': '07/02/2012'}\n",
      "07/02/2012 {'address': '5645 N RAVENSWOOD', 'date': '07/02/2012'}\n",
      "07/02/2012 {'address': '1060 W ADDISON', 'date': '07/02/2012'}\n",
      "07/03/2012 {'address': '2122 N CLARK', 'date': '07/03/2012'}\n",
      "07/04/2012 {'address': '5148 N CLARK', 'date': '07/04/2012'}\n",
      "07/04/2012 {'address': '1039 W GRANVILLE', 'date': '07/04/2012'}\n",
      "================================================================================\n",
      "defaultdict(<class 'list'>, {'07/01/2012': [{'address': '5412 N CLARK', 'date': '07/01/2012'}, {'address': '4801 N BROADWAY', 'date': '07/01/2012'}], '07/02/2012': [{'address': '5800 E 58TH', 'date': '07/02/2012'}, {'address': '5645 N RAVENSWOOD', 'date': '07/02/2012'}, {'address': '1060 W ADDISON', 'date': '07/02/2012'}], '07/03/2012': [{'address': '2122 N CLARK', 'date': '07/03/2012'}], '07/04/2012': [{'address': '5148 N CLARK', 'date': '07/04/2012'}, {'address': '1039 W GRANVILLE', 'date': '07/04/2012'}]})\n"
     ]
    }
   ],
   "source": [
    "from collections import defaultdict\n",
    "rows_by_date = defaultdict(list)\n",
    "for row in rows:\n",
    "    print(row['date'], row)\n",
    "    rows_by_date[row['date']].append(row)\n",
    "\n",
    "print('='*80)\n",
    "print(rows_by_date)"
   ]
  },
  {
   "cell_type": "markdown",
   "metadata": {},
   "source": [
    "This allows the records for each date to be accessed easily like this:"
   ]
  },
  {
   "cell_type": "code",
   "execution_count": 5,
   "metadata": {},
   "outputs": [
    {
     "name": "stdout",
     "output_type": "stream",
     "text": [
      "{'address': '5412 N CLARK', 'date': '07/01/2012'}\n",
      "{'address': '4801 N BROADWAY', 'date': '07/01/2012'}\n"
     ]
    }
   ],
   "source": [
    ">>> for r in rows_by_date['07/01/2012']:\n",
    "...     print(r)"
   ]
  },
  {
   "cell_type": "markdown",
   "metadata": {},
   "source": [
    "```\n",
    "{'date': '07/01/2012', 'address': '5412 N CLARK'}\n",
    "{'date': '07/01/2012', 'address': '4801 N BROADWAY'}\n",
    "```"
   ]
  },
  {
   "cell_type": "markdown",
   "metadata": {},
   "source": [
    "For this latter example, it’s not necessary to sort the records first. Thus, if memory is no\n",
    "concern, it may be faster to do this than to first sort the records and iterate using\n",
    "`groupby()`."
   ]
  },
  {
   "cell_type": "markdown",
   "metadata": {},
   "source": [
    "## 1.16. Filtering Sequence Elements\n",
    "\n",
    "### Problem\n",
    "\n",
    "You have data inside of a sequence, and need to extract values or reduce the sequence\n",
    "using some criteria.\n",
    "\n",
    "### Solution\n",
    "\n",
    "The easiest way to filter sequence data is often to use a list comprehension. \n",
    "\n",
    "For example:"
   ]
  },
  {
   "cell_type": "code",
   "execution_count": 10,
   "metadata": {},
   "outputs": [
    {
     "data": {
      "text/plain": [
       "[1, 4, 10, 2, 3]"
      ]
     },
     "execution_count": 10,
     "metadata": {},
     "output_type": "execute_result"
    }
   ],
   "source": [
    ">>> mylist = [1, 4, -5, 10, -7, 2, 3, -1]\n",
    ">>> [n for n in mylist if n > 0]"
   ]
  },
  {
   "cell_type": "raw",
   "metadata": {},
   "source": [
    "[1, 4, 10, 2, 3]"
   ]
  },
  {
   "cell_type": "code",
   "execution_count": 11,
   "metadata": {},
   "outputs": [
    {
     "data": {
      "text/plain": [
       "[-5, -7, -1]"
      ]
     },
     "execution_count": 11,
     "metadata": {},
     "output_type": "execute_result"
    }
   ],
   "source": [
    ">>> [n for n in mylist if n < 0]\n",
    "[-5, -7, -1]\n",
    ">>>"
   ]
  },
  {
   "cell_type": "markdown",
   "metadata": {},
   "source": [
    "One potential downside of using a list comprehension is that it might produce a large\n",
    "result if the original input is large. If this is a concern, you can use `generator` expressions\n",
    "to produce the filtered values iteratively. \n",
    "\n",
    "For example:"
   ]
  },
  {
   "cell_type": "code",
   "execution_count": 12,
   "metadata": {},
   "outputs": [
    {
     "data": {
      "text/plain": [
       "<generator object <genexpr> at 0xb13773ac>"
      ]
     },
     "execution_count": 12,
     "metadata": {},
     "output_type": "execute_result"
    }
   ],
   "source": [
    ">>> pos = (n for n in mylist if n > 0)\n",
    ">>> pos"
   ]
  },
  {
   "cell_type": "markdown",
   "metadata": {},
   "source": [
    "<generator object <genexpr> at 0x1006a0eb0>"
   ]
  },
  {
   "cell_type": "code",
   "execution_count": 13,
   "metadata": {},
   "outputs": [
    {
     "name": "stdout",
     "output_type": "stream",
     "text": [
      "1\n",
      "4\n",
      "10\n",
      "2\n",
      "3\n"
     ]
    },
    {
     "data": {
      "text/plain": [
       "3"
      ]
     },
     "execution_count": 13,
     "metadata": {},
     "output_type": "execute_result"
    }
   ],
   "source": [
    ">>> for x in pos:\n",
    "...     print(x)\n",
    "...\n",
    "    1\n",
    "4\n",
    "10\n",
    "2\n",
    "3\n",
    ">>>"
   ]
  },
  {
   "cell_type": "markdown",
   "metadata": {},
   "source": [
    "Sometimes, the filtering criteria cannot be easily expressed in a list comprehension or\n",
    "generator expression. For example, suppose that the filtering process involves exception\n",
    "handling or some other complicated detail. For this, put the filtering code into its own\n",
    "function and use the built-in `filter()` function. \n",
    "\n",
    "For example:"
   ]
  },
  {
   "cell_type": "code",
   "execution_count": 14,
   "metadata": {},
   "outputs": [
    {
     "name": "stdout",
     "output_type": "stream",
     "text": [
      "['1', '2', '-3', '4', '5']\n"
     ]
    }
   ],
   "source": [
    "values = ['1', '2', '-3', '-', '4', 'N/A', '5']\n",
    "def is_int(val):\n",
    "    try:\n",
    "        x = int(val)\n",
    "        return True\n",
    "    except ValueError:\n",
    "        return False\n",
    "    \n",
    "ivals = list(filter(is_int, values))\n",
    "print(ivals)\n",
    "# Outputs ['1', '2', '-3', '4', '5']"
   ]
  },
  {
   "cell_type": "markdown",
   "metadata": {},
   "source": [
    "`filter()` creates an iterator, so if you want to create a list of results, make sure you also\n",
    "use `list()` as shown.\n",
    "\n",
    "### Discussion\n",
    "\n",
    "List comprehensions and generator expressions are often the easiest and most straightforwardm\n",
    "ways to filter simple data. They also have the added power to transform the\n",
    "data at the same time. \n",
    "\n",
    "For example:"
   ]
  },
  {
   "cell_type": "code",
   "execution_count": 15,
   "metadata": {},
   "outputs": [
    {
     "data": {
      "text/plain": [
       "[1.0, 2.0, 3.1622776601683795, 1.4142135623730951, 1.7320508075688772]"
      ]
     },
     "execution_count": 15,
     "metadata": {},
     "output_type": "execute_result"
    }
   ],
   "source": [
    ">>> mylist = [1, 4, -5, 10, -7, 2, 3, -1]\n",
    ">>> import math\n",
    ">>> [math.sqrt(n) for n in mylist if n > 0]\n",
    "[1.0, 2.0, 3.1622776601683795, 1.4142135623730951, 1.7320508075688772]\n",
    ">>>"
   ]
  },
  {
   "cell_type": "markdown",
   "metadata": {},
   "source": [
    "One variation on filtering involves replacing the values that don’t meet the criteria with\n",
    "a new value instead of discarding them. For example, perhaps instead of just finding\n",
    "positive values, you want to also clip bad values to fit within a specified range. This is\n",
    "often easily accomplished by moving the filter criterion into a conditional expression\n",
    "like this:"
   ]
  },
  {
   "cell_type": "code",
   "execution_count": 20,
   "metadata": {},
   "outputs": [
    {
     "data": {
      "text/plain": [
       "[1, 4, 0, 10, 0, 2, 3, 0]"
      ]
     },
     "execution_count": 20,
     "metadata": {},
     "output_type": "execute_result"
    }
   ],
   "source": [
    ">>> clip_neg = [n if n > 0 else 0 for n in mylist]\n",
    ">>> clip_neg"
   ]
  },
  {
   "cell_type": "code",
   "execution_count": 21,
   "metadata": {},
   "outputs": [
    {
     "data": {
      "text/plain": [
       "[0, 0, -5, 0, -7, 0, 0, -1]"
      ]
     },
     "execution_count": 21,
     "metadata": {},
     "output_type": "execute_result"
    }
   ],
   "source": [
    "[1, 4, 0, 10, 0, 2, 3, 0]\n",
    ">>> clip_pos = [n if n < 0 else 0 for n in mylist]\n",
    ">>> clip_pos"
   ]
  },
  {
   "cell_type": "raw",
   "metadata": {},
   "source": [
    "    [0, 0, -5, 0, -7, 0, 0, -1]"
   ]
  },
  {
   "cell_type": "markdown",
   "metadata": {},
   "source": [
    "Another notable filtering tool is `itertools.compress()`, which takes an iterable and\n",
    "an accompanying Boolean selector sequence as input. As output, it gives you all of the\n",
    "items in the iterable where the corresponding element in the selector is True. This can\n",
    "be useful if you’re trying to apply the results of filtering one sequence to another related\n",
    "sequence. \n",
    "\n",
    "For example, suppose you have the following two columns of data:"
   ]
  },
  {
   "cell_type": "code",
   "execution_count": 23,
   "metadata": {},
   "outputs": [],
   "source": [
    "addresses = [\n",
    "'5412 N CLARK',\n",
    "'5148 N CLARK',\n",
    "'5800 E 58TH',\n",
    "'2122 N CLARK'\n",
    "'5645 N RAVENSWOOD',\n",
    "'1060 W ADDISON',\n",
    "'4801 N BROADWAY',\n",
    "'1039 W GRANVILLE',\n",
    "]\n",
    "counts = [ 0, 3, 10, 4, 1, 7, 6, 1]"
   ]
  },
  {
   "cell_type": "markdown",
   "metadata": {},
   "source": [
    "Now suppose you want to make a list of all addresses where the corresponding count\n",
    "value was greater than 5. Here’s how you could do it:"
   ]
  },
  {
   "cell_type": "code",
   "execution_count": 24,
   "metadata": {},
   "outputs": [
    {
     "data": {
      "text/plain": [
       "[False, False, True, False, False, True, True, False]"
      ]
     },
     "execution_count": 24,
     "metadata": {},
     "output_type": "execute_result"
    }
   ],
   "source": [
    ">>> from itertools import compress\n",
    ">>> more5 = [n > 5 for n in counts]\n",
    ">>> more5"
   ]
  },
  {
   "cell_type": "raw",
   "metadata": {},
   "source": [
    "[False, False, True, False, False, True, True, False]"
   ]
  },
  {
   "cell_type": "code",
   "execution_count": 25,
   "metadata": {},
   "outputs": [
    {
     "data": {
      "text/plain": [
       "['5800 E 58TH', '4801 N BROADWAY', '1039 W GRANVILLE']"
      ]
     },
     "execution_count": 25,
     "metadata": {},
     "output_type": "execute_result"
    }
   ],
   "source": [
    ">>> list(compress(addresses, more5))\n",
    "['5800 E 58TH', '4801 N BROADWAY', '1039 W GRANVILLE']\n",
    ">>>"
   ]
  },
  {
   "cell_type": "markdown",
   "metadata": {},
   "source": [
    "The key here is to first create a sequence of Booleans that indicates which elements\n",
    "satisfy the desired condition. The `compress()` function then picks out the items corresponding\n",
    "to True values.\n",
    "\n",
    "Like `filter()`, `compress()` normally returns an `iterator`. Thus, you need to use `list()`\n",
    "to turn the results into a list if desired."
   ]
  },
  {
   "cell_type": "code",
   "execution_count": null,
   "metadata": {},
   "outputs": [],
   "source": []
  }
 ],
 "metadata": {
  "kernelspec": {
   "display_name": "Python 3",
   "language": "python",
   "name": "python3"
  },
  "language_info": {
   "codemirror_mode": {
    "name": "ipython",
    "version": 3
   },
   "file_extension": ".py",
   "mimetype": "text/x-python",
   "name": "python",
   "nbconvert_exporter": "python",
   "pygments_lexer": "ipython3",
   "version": "3.7.1"
  },
  "toc": {
   "base_numbering": 1,
   "nav_menu": {
    "height": "573px",
    "width": "511px"
   },
   "number_sections": true,
   "sideBar": true,
   "skip_h1_title": false,
   "title_cell": "Table of Contents",
   "title_sidebar": "Contents",
   "toc_cell": false,
   "toc_position": {
    "height": "calc(100% - 180px)",
    "left": "10px",
    "top": "150px",
    "width": "300.2px"
   },
   "toc_section_display": true,
   "toc_window_display": true
  }
 },
 "nbformat": 4,
 "nbformat_minor": 2
}
