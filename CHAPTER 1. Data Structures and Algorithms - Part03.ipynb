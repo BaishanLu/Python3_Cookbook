{
 "cells": [
  {
   "cell_type": "markdown",
   "metadata": {},
   "source": [
    "#  CHAPTER 1. Data Structures and Algorithms - Part03"
   ]
  },
  {
   "cell_type": "markdown",
   "metadata": {},
   "source": [
    "## 1.17. Extracting a Subset of a Dictionary\n",
    "\n",
    "### Problem\n",
    "\n",
    "You want to make a dictionary that is a subset of another dictionary.\n",
    "\n",
    "### Solution\n",
    "\n",
    "This is easily accomplished using a dictionary comprehension. \n",
    "\n",
    "For example:\n",
    "\n",
    "```python\n",
    "prices = {\n",
    "'ACME': 45.23,\n",
    "'AAPL': 612.78,\n",
    "'IBM': 205.55,\n",
    "'HPQ': 37.20,\n",
    "'FB': 10.75\n",
    "}\n",
    "\n",
    "# Make a dictionary of all prices over 200\n",
    "p1 = { key:value for key, value in prices.items() if value > 200 }\n",
    "# Make a dictionary of tech stocks\n",
    "tech_names = { 'AAPL', 'IBM', 'HPQ', 'MSFT' }\n",
    "p2 = { key:value for key,value in prices.items() if key in tech_names }\n",
    "```\n",
    "\n",
    "### Discussion\n",
    "\n",
    "Much of what can be accomplished with a dictionary comprehension might also be done\n",
    "by creating a sequence of tuples and passing them to the dict() function. \n",
    "\n",
    "For example:\n",
    "```python\n",
    "p1 = dict((key, value) for key, value in prices.items() if value > 200)\n",
    "```\n",
    "\n",
    "However, the dictionary comprehension solution is a bit clearer and actually runs quite\n",
    "a bit faster (over twice as fast when tested on the prices dictionary used in the example).\n",
    "Sometimes there are multiple ways of accomplishing the same thing. For instance, the\n",
    "second example could be rewritten as:\n",
    "\n",
    "```python\n",
    "# Make a dictionary of tech stocks\n",
    "tech_names = { 'AAPL', 'IBM', 'HPQ', 'MSFT' }\n",
    "p2 = { key:prices[key] for key in prices.keys() & tech_names }\n",
    "```\n",
    "\n",
    "However, a timing study reveals that this solution is almost 1.6 times slower than the\n",
    "first solution. If performance matters, it usually pays to spend a bit of time studying it.\n",
    "See Recipe 14.13 for specific information about timing and profiling."
   ]
  }
 ],
 "metadata": {
  "kernelspec": {
   "display_name": "Python 3",
   "language": "python",
   "name": "python3"
  },
  "language_info": {
   "codemirror_mode": {
    "name": "ipython",
    "version": 3
   },
   "file_extension": ".py",
   "mimetype": "text/x-python",
   "name": "python",
   "nbconvert_exporter": "python",
   "pygments_lexer": "ipython3",
   "version": "3.7.1"
  },
  "toc": {
   "base_numbering": 1,
   "nav_menu": {},
   "number_sections": true,
   "sideBar": true,
   "skip_h1_title": false,
   "title_cell": "Table of Contents",
   "title_sidebar": "Contents",
   "toc_cell": false,
   "toc_position": {},
   "toc_section_display": true,
   "toc_window_display": true
  }
 },
 "nbformat": 4,
 "nbformat_minor": 2
}
